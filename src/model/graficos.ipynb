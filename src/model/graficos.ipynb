{
 "cells": [
  {
   "cell_type": "code",
   "execution_count": 10,
   "metadata": {},
   "outputs": [],
   "source": [
    "# Agrupar categorias menores em uma única categoria \"Outros\"\n",
    "import pandas as pd\n",
    "import matplotlib.pyplot as plt\n",
    "# Definir um limiar para determinar quais grupos são 'pequenos' - por exemplo, menos de 5% do total\n",
    "threshold = 0.05\n",
    "total_counts = group_counts.sum()\n",
    "small_groups = group_counts[group_counts < threshold * total_counts]\n",
    "\n",
    "# Criar uma nova série combinando pequenos grupos em 'Outros'\n",
    "group_counts_adjusted = group_counts[~group_counts.isin(small_groups)]\n",
    "group_counts_adjusted['Outros'] = small_groups.sum()\n",
    "\n",
    "# Criar um gráfico de pizza com a categoria \"Outros\"\n",
    "plt.figure(figsize=(8, 8))\n",
    "group_counts_adjusted.plot(kind='pie', autopct='%1.1f%%', startangle=90, colors=plt.cm.Paired(range(len(group_counts_adjusted))))\n",
    "plt.title('Proporção de Grupos de Falhas com Categoria \"Outros\"')\n",
    "plt.ylabel('')  # Remover a label do eixo y para limpar o gráfico\n",
    "\n",
    "# Mostrar o gráfico\n",
    "plt.show()\n"
   ]
  },
  {
   "cell_type": "code",
   "execution_count": 9,
   "metadata": {},
   "outputs": [],
   "source": [
    "# Criar um gráfico de pizza para visualizar as proporções de cada grupo de falhas\n",
    "plt.figure(figsize=(8, 8))\n",
    "group_counts.plot(kind='pie', autopct='%1.1f%%', startangle=90, colors=plt.cm.Paired(range(len(group_counts))))\n",
    "plt.title('Proporção de Grupos de Falhas')\n",
    "plt.ylabel('')  # Remover a label do eixo y para limpar o gráfico\n",
    "\n",
    "# Mostrar o gráfico\n",
    "plt.show()\n"
   ]
  },
  {
   "cell_type": "code",
   "execution_count": 5,
   "metadata": {},
   "outputs": [],
   "source": [
    "import pandas as pd\n",
    "import matplotlib.pyplot as plt\n",
    "\n",
    "file_path = 'MERGE_Final.csv'\n",
    "df = pd.read_csv(file_path)\n",
    "\n",
    "delta_columns = [col for col in df.columns if col.startswith(('delta_ZP5', 'delta_ZP5A', 'delta_ZP6', 'delta_CABINES'))]\n",
    "df['total_checkup_time'] = df[delta_columns].sum(axis=1)\n",
    "plt.figure(figsize=(12, 6))\n",
    "\n",
    "df = df.sample(20)\n",
    "\n",
    "plt.bar(df['KNR'], df['total_checkup_time'])\n",
    "plt.title('Tempo Total de Check-up por Carro (Amostra de 20 Carros)')\n",
    "plt.xlabel('KNR (Identificação do Carro)')\n",
    "plt.ylabel('Tempo Total de Check-up')\n",
    "plt.xticks(rotation=45, fontsize=8)  \n",
    "\n",
    "plt.show()\n"
   ]
  },
  {
   "cell_type": "code",
   "execution_count": 7,
   "metadata": {},
   "outputs": [],
   "source": [
    "file_path = 'FALHAS_KNR.csv'\n",
    "df_falhas = pd.read_csv(file_path)"
   ]
  },
  {
   "cell_type": "code",
   "execution_count": 8,
   "metadata": {},
   "outputs": [],
   "source": [
    "df_falhas"
   ]
  }
 ],
 "metadata": {
  "kernelspec": {
   "display_name": "venv",
   "language": "python",
   "name": "python3"
  },
  "language_info": {
   "codemirror_mode": {
    "name": "ipython",
    "version": 3
   },
   "file_extension": ".py",
   "mimetype": "text/x-python",
   "name": "python",
   "nbconvert_exporter": "python",
   "pygments_lexer": "ipython3",
   "version": "3.12.5"
  }
 },
 "nbformat": 4,
 "nbformat_minor": 2
}
