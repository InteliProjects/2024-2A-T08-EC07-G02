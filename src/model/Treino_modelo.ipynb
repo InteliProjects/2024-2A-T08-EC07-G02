{
 "cells": [
  {
   "cell_type": "markdown",
   "id": "8ae08fc1",
   "metadata": {},
   "source": [
    "# Notebook de treino de modelo\n",
    "\n",
    "Este notebook foi desenvolvido ao longo das sprints 2, 3 e 4 com o objetivo de fazer o tratamento dos dados para a criação de fetaures para o modelo e a criação do modelo em si. Os comentários presentes no notebook buscam explicar os blocos de código e a lógica do processamento feito para facilitar o entendimento da pipeline de treino dos dados do modelo criado e auxiliar na experimentação na busca pela melhoria nas previsões."
   ]
  },
  {
   "cell_type": "code",
   "execution_count": 2,
   "id": "7913947d-b36a-43c5-9a5b-a116e833e108",
   "metadata": {},
   "outputs": [],
   "source": [
    "import os\n",
    "\n",
    "os.environ['TF_ENABLE_ONEDNN_OPTS'] = '0'\n",
    "\n",
    "from keras.models import Sequential\n",
    "from keras.layers import Dense, Conv2D, MaxPool2D, Flatten, Dropout, Input\n",
    "from keras.optimizers import Adam\n",
    "import pandas as pd\n",
    "import numpy as np\n",
    "from keras.utils import to_categorical\n",
    "from sklearn.preprocessing import normalize\n",
    "from datetime import datetime, timedelta"
   ]
  },
  {
   "cell_type": "markdown",
   "id": "3c906f0b",
   "metadata": {},
   "source": [
    "## Processamento dos dados\n",
    "\n",
    "Os próximos blocos de código buscam receber e transformar os dados fornecidos pelo parceiro em features que utilizaremos no modelo.\n",
    "\n",
    "### Tabela STATUS\n",
    "\n",
    "Começaremos com a tabela \"STATUS\" que possui os dados de status utilizados na fábrica e o horário que este status foi lançado dos KNRs, na célula a seguir, estamos abrindo o arquivo Excel e fazendo uma transformação inicial para ajustar o nome das colunas que aparece como a primeira linha do banco de dados e retirando a coluna de índice."
   ]
  },
  {
   "cell_type": "code",
   "execution_count": 3,
   "id": "13a12f6a-7cb4-4c6f-be94-b3f9a79f2006",
   "metadata": {},
   "outputs": [
    {
     "ename": "FileNotFoundError",
     "evalue": "[Errno 2] No such file or directory: 'STATUS_PREDICTOR_ANO.xlsx'",
     "output_type": "error",
     "traceback": [
      "\u001b[1;31m---------------------------------------------------------------------------\u001b[0m",
      "\u001b[1;31mFileNotFoundError\u001b[0m                         Traceback (most recent call last)",
      "Cell \u001b[1;32mIn[3], line 1\u001b[0m\n\u001b[1;32m----> 1\u001b[0m df_st \u001b[38;5;241m=\u001b[39m \u001b[43mpd\u001b[49m\u001b[38;5;241;43m.\u001b[39;49m\u001b[43mread_excel\u001b[49m\u001b[43m(\u001b[49m\u001b[38;5;124;43m\"\u001b[39;49m\u001b[38;5;124;43mSTATUS_PREDICTOR_ANO.xlsx\u001b[39;49m\u001b[38;5;124;43m\"\u001b[39;49m\u001b[43m)\u001b[49m\n\u001b[0;32m      2\u001b[0m df_st\u001b[38;5;241m.\u001b[39mcolumns \u001b[38;5;241m=\u001b[39m df_st\u001b[38;5;241m.\u001b[39mloc[\u001b[38;5;241m0\u001b[39m]\n\u001b[0;32m      3\u001b[0m df_st \u001b[38;5;241m=\u001b[39m df_st\u001b[38;5;241m.\u001b[39mdrop(index\u001b[38;5;241m=\u001b[39m\u001b[38;5;241m0\u001b[39m)\n",
      "File \u001b[1;32mc:\\Users\\cecig\\OneDrive\\Documentos\\GitHub\\2024-2A-T08-EC07-G02\\venv\\Lib\\site-packages\\pandas\\io\\excel\\_base.py:495\u001b[0m, in \u001b[0;36mread_excel\u001b[1;34m(io, sheet_name, header, names, index_col, usecols, dtype, engine, converters, true_values, false_values, skiprows, nrows, na_values, keep_default_na, na_filter, verbose, parse_dates, date_parser, date_format, thousands, decimal, comment, skipfooter, storage_options, dtype_backend, engine_kwargs)\u001b[0m\n\u001b[0;32m    493\u001b[0m \u001b[38;5;28;01mif\u001b[39;00m \u001b[38;5;129;01mnot\u001b[39;00m \u001b[38;5;28misinstance\u001b[39m(io, ExcelFile):\n\u001b[0;32m    494\u001b[0m     should_close \u001b[38;5;241m=\u001b[39m \u001b[38;5;28;01mTrue\u001b[39;00m\n\u001b[1;32m--> 495\u001b[0m     io \u001b[38;5;241m=\u001b[39m \u001b[43mExcelFile\u001b[49m\u001b[43m(\u001b[49m\n\u001b[0;32m    496\u001b[0m \u001b[43m        \u001b[49m\u001b[43mio\u001b[49m\u001b[43m,\u001b[49m\n\u001b[0;32m    497\u001b[0m \u001b[43m        \u001b[49m\u001b[43mstorage_options\u001b[49m\u001b[38;5;241;43m=\u001b[39;49m\u001b[43mstorage_options\u001b[49m\u001b[43m,\u001b[49m\n\u001b[0;32m    498\u001b[0m \u001b[43m        \u001b[49m\u001b[43mengine\u001b[49m\u001b[38;5;241;43m=\u001b[39;49m\u001b[43mengine\u001b[49m\u001b[43m,\u001b[49m\n\u001b[0;32m    499\u001b[0m \u001b[43m        \u001b[49m\u001b[43mengine_kwargs\u001b[49m\u001b[38;5;241;43m=\u001b[39;49m\u001b[43mengine_kwargs\u001b[49m\u001b[43m,\u001b[49m\n\u001b[0;32m    500\u001b[0m \u001b[43m    \u001b[49m\u001b[43m)\u001b[49m\n\u001b[0;32m    501\u001b[0m \u001b[38;5;28;01melif\u001b[39;00m engine \u001b[38;5;129;01mand\u001b[39;00m engine \u001b[38;5;241m!=\u001b[39m io\u001b[38;5;241m.\u001b[39mengine:\n\u001b[0;32m    502\u001b[0m     \u001b[38;5;28;01mraise\u001b[39;00m \u001b[38;5;167;01mValueError\u001b[39;00m(\n\u001b[0;32m    503\u001b[0m         \u001b[38;5;124m\"\u001b[39m\u001b[38;5;124mEngine should not be specified when passing \u001b[39m\u001b[38;5;124m\"\u001b[39m\n\u001b[0;32m    504\u001b[0m         \u001b[38;5;124m\"\u001b[39m\u001b[38;5;124man ExcelFile - ExcelFile already has the engine set\u001b[39m\u001b[38;5;124m\"\u001b[39m\n\u001b[0;32m    505\u001b[0m     )\n",
      "File \u001b[1;32mc:\\Users\\cecig\\OneDrive\\Documentos\\GitHub\\2024-2A-T08-EC07-G02\\venv\\Lib\\site-packages\\pandas\\io\\excel\\_base.py:1550\u001b[0m, in \u001b[0;36mExcelFile.__init__\u001b[1;34m(self, path_or_buffer, engine, storage_options, engine_kwargs)\u001b[0m\n\u001b[0;32m   1548\u001b[0m     ext \u001b[38;5;241m=\u001b[39m \u001b[38;5;124m\"\u001b[39m\u001b[38;5;124mxls\u001b[39m\u001b[38;5;124m\"\u001b[39m\n\u001b[0;32m   1549\u001b[0m \u001b[38;5;28;01melse\u001b[39;00m:\n\u001b[1;32m-> 1550\u001b[0m     ext \u001b[38;5;241m=\u001b[39m \u001b[43minspect_excel_format\u001b[49m\u001b[43m(\u001b[49m\n\u001b[0;32m   1551\u001b[0m \u001b[43m        \u001b[49m\u001b[43mcontent_or_path\u001b[49m\u001b[38;5;241;43m=\u001b[39;49m\u001b[43mpath_or_buffer\u001b[49m\u001b[43m,\u001b[49m\u001b[43m \u001b[49m\u001b[43mstorage_options\u001b[49m\u001b[38;5;241;43m=\u001b[39;49m\u001b[43mstorage_options\u001b[49m\n\u001b[0;32m   1552\u001b[0m \u001b[43m    \u001b[49m\u001b[43m)\u001b[49m\n\u001b[0;32m   1553\u001b[0m     \u001b[38;5;28;01mif\u001b[39;00m ext \u001b[38;5;129;01mis\u001b[39;00m \u001b[38;5;28;01mNone\u001b[39;00m:\n\u001b[0;32m   1554\u001b[0m         \u001b[38;5;28;01mraise\u001b[39;00m \u001b[38;5;167;01mValueError\u001b[39;00m(\n\u001b[0;32m   1555\u001b[0m             \u001b[38;5;124m\"\u001b[39m\u001b[38;5;124mExcel file format cannot be determined, you must specify \u001b[39m\u001b[38;5;124m\"\u001b[39m\n\u001b[0;32m   1556\u001b[0m             \u001b[38;5;124m\"\u001b[39m\u001b[38;5;124man engine manually.\u001b[39m\u001b[38;5;124m\"\u001b[39m\n\u001b[0;32m   1557\u001b[0m         )\n",
      "File \u001b[1;32mc:\\Users\\cecig\\OneDrive\\Documentos\\GitHub\\2024-2A-T08-EC07-G02\\venv\\Lib\\site-packages\\pandas\\io\\excel\\_base.py:1402\u001b[0m, in \u001b[0;36minspect_excel_format\u001b[1;34m(content_or_path, storage_options)\u001b[0m\n\u001b[0;32m   1399\u001b[0m \u001b[38;5;28;01mif\u001b[39;00m \u001b[38;5;28misinstance\u001b[39m(content_or_path, \u001b[38;5;28mbytes\u001b[39m):\n\u001b[0;32m   1400\u001b[0m     content_or_path \u001b[38;5;241m=\u001b[39m BytesIO(content_or_path)\n\u001b[1;32m-> 1402\u001b[0m \u001b[38;5;28;01mwith\u001b[39;00m \u001b[43mget_handle\u001b[49m\u001b[43m(\u001b[49m\n\u001b[0;32m   1403\u001b[0m \u001b[43m    \u001b[49m\u001b[43mcontent_or_path\u001b[49m\u001b[43m,\u001b[49m\u001b[43m \u001b[49m\u001b[38;5;124;43m\"\u001b[39;49m\u001b[38;5;124;43mrb\u001b[39;49m\u001b[38;5;124;43m\"\u001b[39;49m\u001b[43m,\u001b[49m\u001b[43m \u001b[49m\u001b[43mstorage_options\u001b[49m\u001b[38;5;241;43m=\u001b[39;49m\u001b[43mstorage_options\u001b[49m\u001b[43m,\u001b[49m\u001b[43m \u001b[49m\u001b[43mis_text\u001b[49m\u001b[38;5;241;43m=\u001b[39;49m\u001b[38;5;28;43;01mFalse\u001b[39;49;00m\n\u001b[0;32m   1404\u001b[0m \u001b[43m\u001b[49m\u001b[43m)\u001b[49m \u001b[38;5;28;01mas\u001b[39;00m handle:\n\u001b[0;32m   1405\u001b[0m     stream \u001b[38;5;241m=\u001b[39m handle\u001b[38;5;241m.\u001b[39mhandle\n\u001b[0;32m   1406\u001b[0m     stream\u001b[38;5;241m.\u001b[39mseek(\u001b[38;5;241m0\u001b[39m)\n",
      "File \u001b[1;32mc:\\Users\\cecig\\OneDrive\\Documentos\\GitHub\\2024-2A-T08-EC07-G02\\venv\\Lib\\site-packages\\pandas\\io\\common.py:882\u001b[0m, in \u001b[0;36mget_handle\u001b[1;34m(path_or_buf, mode, encoding, compression, memory_map, is_text, errors, storage_options)\u001b[0m\n\u001b[0;32m    873\u001b[0m         handle \u001b[38;5;241m=\u001b[39m \u001b[38;5;28mopen\u001b[39m(\n\u001b[0;32m    874\u001b[0m             handle,\n\u001b[0;32m    875\u001b[0m             ioargs\u001b[38;5;241m.\u001b[39mmode,\n\u001b[1;32m   (...)\u001b[0m\n\u001b[0;32m    878\u001b[0m             newline\u001b[38;5;241m=\u001b[39m\u001b[38;5;124m\"\u001b[39m\u001b[38;5;124m\"\u001b[39m,\n\u001b[0;32m    879\u001b[0m         )\n\u001b[0;32m    880\u001b[0m     \u001b[38;5;28;01melse\u001b[39;00m:\n\u001b[0;32m    881\u001b[0m         \u001b[38;5;66;03m# Binary mode\u001b[39;00m\n\u001b[1;32m--> 882\u001b[0m         handle \u001b[38;5;241m=\u001b[39m \u001b[38;5;28;43mopen\u001b[39;49m\u001b[43m(\u001b[49m\u001b[43mhandle\u001b[49m\u001b[43m,\u001b[49m\u001b[43m \u001b[49m\u001b[43mioargs\u001b[49m\u001b[38;5;241;43m.\u001b[39;49m\u001b[43mmode\u001b[49m\u001b[43m)\u001b[49m\n\u001b[0;32m    883\u001b[0m     handles\u001b[38;5;241m.\u001b[39mappend(handle)\n\u001b[0;32m    885\u001b[0m \u001b[38;5;66;03m# Convert BytesIO or file objects passed with an encoding\u001b[39;00m\n",
      "\u001b[1;31mFileNotFoundError\u001b[0m: [Errno 2] No such file or directory: 'STATUS_PREDICTOR_ANO.xlsx'"
     ]
    }
   ],
   "source": [
    "df_st = pd.read_excel(\"STATUS_PREDICTOR_ANO.xlsx\")\n",
    "df_st.columns = df_st.loc[0]\n",
    "df_st = df_st.drop(index=0)\n",
    "df_st = df_st.drop(columns=df_st.columns[0])"
   ]
  },
  {
   "cell_type": "markdown",
   "id": "81b1f5d0",
   "metadata": {},
   "source": [
    "Como queremos saber quando determinado KNR entrou nos checkpoints estudados (ZP5, ZP5A, ZP6 e ZP7, estamos separando o ZP6 em ZP6 e Cabinagem pois isto aumenta a acurácia do modelo), começamos classificando os códigos de status aos seus checkpoints correspondentes e criando a coluna \"ZP\" para armazenar este dado, depois filtramos o banco de dados para que ele possua apenas status os quais sabemos o checkpoint."
   ]
  },
  {
   "cell_type": "code",
   "execution_count": 5,
   "id": "fd7da3d5-afa9-42dd-b3ec-4456223d30ef",
   "metadata": {},
   "outputs": [],
   "source": [
    "df_st = df_st.copy()\n",
    "df_st[\"ZP\"] = [\"\" for a in range(df_st.shape[0])]\n",
    "zp5 = ['R640','R650','R700','R754','R755','R500','R645','R655','R701',\"R750\"]\n",
    "zp5a = ['L534','L535','L536','L537','L538','L539','L541','L542','L543','L544','L545','L546','L547','L548', 'L535', \"L540\"]\n",
    "zp6 = [\"G700\", \"M600\", 'M599','M591','M592','M593','M594','M595','M596','M643','M644','M647','M648','M651','M652','M655','M656','M673','M674','M677','M678','M681','M682']\n",
    "cab = ['M619','M643','M644','M655','M656','M673','M674', 'M619', \"M620\"]\n",
    "zp7 = [\"M700\", 'M695','M698','M701','M702','M704','M711','M712','M721','M722', 'M699']\n",
    "for k in df_st.index:\n",
    "    val = df_st.loc[k,\"STATUS\"]\n",
    "    if val in zp5:\n",
    "        df_st.loc[k,\"ZP\"] = \"ZP5\"\n",
    "    elif val in zp5a:\n",
    "        df_st.loc[k,\"ZP\"] = \"ZP5A\"\n",
    "    elif val in zp6:\n",
    "        df_st.loc[k,\"ZP\"] = \"ZP6\"\n",
    "    elif val in cab:\n",
    "        df_st.loc[k,\"ZP\"] = \"CABINES\"\n",
    "    elif val in zp7:\n",
    "        df_st.loc[k,\"ZP\"] = \"ZP7\"\n",
    "    else:\n",
    "        df_st.loc[k,\"ZP\"] = \"-\"\n",
    "    \n",
    "        \n",
    "df_st = df_st[df_st[\"ZP\"]!=\"-\"]"
   ]
  },
  {
   "cell_type": "markdown",
   "id": "7d5ea8bf",
   "metadata": {},
   "source": [
    "Após isto, agrupamos os dados de checkpoint e data de lançamento do dado por KNR para organizar os dados de modo que cada KNR seja único."
   ]
  },
  {
   "cell_type": "code",
   "execution_count": 6,
   "id": "c4e0e6a8-d500-493a-83f2-99d2339cc0ef",
   "metadata": {},
   "outputs": [],
   "source": [
    "df_st[\"ZP\"] = df_st.groupby([\"KNR\"])[\"ZP\"].transform(lambda x: \"; \".join(x))\n",
    "df_st[\"DATA\"] = df_st[\"DATA\"].astype(str)\n",
    "df_st[\"DATA\"] = df_st.groupby([\"KNR\"])[\"DATA\"].transform(lambda x: \"; \".join(x))\n",
    "df_st = df_st.drop_duplicates(subset=[\"KNR\",\"ZP\"])"
   ]
  },
  {
   "cell_type": "markdown",
   "id": "463236c9",
   "metadata": {},
   "source": [
    "Neste bloco, criamos a coluna temporária \"all\" para armazenar caso o KNR possua pelo menos um status lançado de cada checkpoint estudado (1 para sim e 0 para não), filtramos para que apenas os KNRs que possuem estes dados e removemos as colunas \"all\" e \"STATUS\"."
   ]
  },
  {
   "cell_type": "code",
   "execution_count": 7,
   "id": "d854adbd-2d1d-4e96-8c51-bd79e89c5d3c",
   "metadata": {},
   "outputs": [],
   "source": [
    "df_st[\"all\"] = [0 for k in range(df_st.shape[0])]\n",
    "zps = set([\"ZP5\",\"ZP5A\",\"ZP6\",\"CABINES\",\"ZP7\"])\n",
    "for r in df_st.index:\n",
    "    arr = set(df_st.loc[r,\"ZP\"].split(\"; \"))\n",
    "    df_st.loc[r,\"all\"] = 1 if arr == zps else 0\n",
    "df_st[\"all\"].value_counts()\n",
    "df_st = df_st[df_st[\"all\"]==1]\n",
    "df_st = df_st.drop(columns=[\"STATUS\",\"all\"])"
   ]
  },
  {
   "cell_type": "markdown",
   "id": "46af208c",
   "metadata": {},
   "source": [
    "Agora criamos colunas para armazenar a data o qual o KNR passou por cada checkpoint estudado."
   ]
  },
  {
   "cell_type": "code",
   "execution_count": 9,
   "id": "762269b2-5ab7-41ff-a8a9-4224a34a9e93",
   "metadata": {},
   "outputs": [],
   "source": [
    "df_st = df_st.reset_index()\n",
    "df_st = df_st.drop(columns=[\"index\"])\n",
    "df_st[\"ZP5_t\"] = [\"\" for a in range(df_st.shape[0])]\n",
    "df_st[\"ZP5A_t\"] = [\"\" for a in range(df_st.shape[0])]\n",
    "df_st[\"ZP6_t\"] = [\"\" for a in range(df_st.shape[0])]\n",
    "df_st[\"CABINES_t\"] = [\"\" for a in range(df_st.shape[0])]\n",
    "df_st[\"ZP7_t\"] = [\"\" for a in range(df_st.shape[0])]"
   ]
  },
  {
   "cell_type": "markdown",
   "id": "897a3f40",
   "metadata": {},
   "source": [
    "Com as colunas criadas, utilizamos os dados de DATA e ZP para determinar o horário do primeiro status de cada checkpoint e adicionamos o dado na coluna correspondente."
   ]
  },
  {
   "cell_type": "code",
   "execution_count": 10,
   "id": "ff1ae54a-1b31-43d3-ba4d-50bed4a52173",
   "metadata": {},
   "outputs": [],
   "source": [
    "for a in range(df_st.shape[0]):\n",
    "    arr_t = df_st.loc[a,\"DATA\"].split(\"; \")\n",
    "    arr_z = df_st.loc[a,\"ZP\"].split(\"; \")\n",
    "    has_seen= []\n",
    "    for b in range(len(arr_t)):\n",
    "        if arr_z[b] not in has_seen:\n",
    "            df_st.loc[a,str(arr_z[b]+\"_t\")] = arr_t[b]\n",
    "            has_seen.append(arr_z[b])"
   ]
  },
  {
   "cell_type": "markdown",
   "id": "c763cccd",
   "metadata": {},
   "source": [
    "Com isto, removemos as colunas que utilizamos (\"DATA\" e \"ZP\") e criamos colunas para armazenar o tempo gasto nos checkpoints estudados."
   ]
  },
  {
   "cell_type": "code",
   "execution_count": 11,
   "id": "4b27902f-e406-4d65-9cbf-59f8190168a0",
   "metadata": {},
   "outputs": [],
   "source": [
    "df_st = df_st.drop(columns=[\"DATA\",\"ZP\"])\n",
    "df_st[\"delta_ZP5\"] = [0.0 for a in range(len(df_st))]\n",
    "df_st[\"delta_ZP5A\"] = [0.0 for a in range(len(df_st))]\n",
    "df_st[\"delta_ZP6\"] = [0.0 for a in range(len(df_st))]\n",
    "df_st[\"delta_CABINES\"] = [0.0 for a in range(len(df_st))]"
   ]
  },
  {
   "cell_type": "markdown",
   "id": "fee2ff23",
   "metadata": {},
   "source": [
    "Após a adição das colunas necessárias, subtraímos a data de entrada no checkpoint com a data de entrada no próximo checkpoint, convertemos para minutos e escrevemos os valores nas colunas correspondentes, removendo as colunas de data de entrada depois do processo."
   ]
  },
  {
   "cell_type": "code",
   "execution_count": 12,
   "id": "d3710b54-340c-4333-a46f-594a8c641c3a",
   "metadata": {},
   "outputs": [],
   "source": [
    "for a in range(len(df_st)):\n",
    "    for b in range(1,5):\n",
    "        t0 = datetime.strptime(df_st.iloc[a,b], \"%Y-%m-%d %H:%M:%S\")\n",
    "        t1 = datetime.strptime(df_st.iloc[a,b+1], \"%Y-%m-%d %H:%M:%S\")\n",
    "        delta = t1 - t0\n",
    "        df_st.iloc[a,b+5] = round(delta.seconds/60,2)\n",
    "df_st = df_st.drop(columns=[\"ZP5_t\",\"ZP5A_t\",\"ZP6_t\",\"CABINES_t\",\"ZP7_t\"])"
   ]
  },
  {
   "cell_type": "markdown",
   "id": "a7eeb2ba",
   "metadata": {},
   "source": [
    "Por fim, estandartizamos os dados de tempo e exportamos o banco de dados em csv caso queiramos utilizá-lo em outra aplicação."
   ]
  },
  {
   "cell_type": "code",
   "execution_count": 13,
   "id": "c20a77ac-402c-4718-8691-ad597313657b",
   "metadata": {},
   "outputs": [],
   "source": [
    "colunas = df_st.columns\n",
    "for i in range(1,5):\n",
    "    df_st[colunas[i]] = (df_st[colunas[i]] - df_st[colunas[i]].mean()) / df_st[colunas[i]].std() \n",
    "df_st.to_csv(\"STATUS_to_ZPtime.csv\", index=False)"
   ]
  },
  {
   "cell_type": "markdown",
   "id": "c02b667a",
   "metadata": {},
   "source": [
    "### Tabela RESULTS\n",
    "\n",
    "Como as tabelas do tipo RESULTS são muito grandes, o processamento foi feito no arquivo \"BATCHES.py\" que quebra o processamento em vários datasets menores, assim, o dado que retiramos é o número de vezes que a operação teve que ser feita por torque de cada KNR. Após este processamento, estamos importando os datasets e concatenando seus dados para criar um banco de dados completo."
   ]
  },
  {
   "cell_type": "code",
   "execution_count": 2,
   "id": "f0a10d32-db34-4f4a-88d8-d357667315fd",
   "metadata": {},
   "outputs": [],
   "source": [
    "df_re = pd.read_csv(\"DATASETS/Results_0.csv\")\n",
    "for i in range(1,694):\n",
    "    df_temp = pd.read_csv(f\"DATASETS/Results_{i}.csv\")\n",
    "    df_re = pd.concat([df_re,df_temp])\n",
    "df_re = df_re.reset_index()\n",
    "df_re = df_re.drop(columns=[\"index\"])"
   ]
  },
  {
   "cell_type": "markdown",
   "id": "48aebffa",
   "metadata": {},
   "source": [
    "Após isto, estamos mudando o tipo de todas as tabelas exceto \"KNR\" para inteiros e juntando dados de KNRs que foram separados no processo de divisão da tabela RESULTS, garantindo que cada KNR aparece apenas uma vez."
   ]
  },
  {
   "cell_type": "code",
   "execution_count": 3,
   "id": "2e1312ee-538e-4858-b67d-61b0873c283c",
   "metadata": {},
   "outputs": [],
   "source": [
    "cols = df_re.columns\n",
    "for c in range(1,len(cols)):\n",
    "    df_re[cols[c]] = df_re[cols[c]].fillna(0)\n",
    "    df_re[cols[c]] = df_re[cols[c]].astype(int)\n",
    "    df_re[cols[c]] = df_re.groupby([\"KNR\"])[cols[c]].transform(\"sum\")\n",
    "    df_re = df_re.drop_duplicates(subset=[\"KNR\"])"
   ]
  },
  {
   "cell_type": "markdown",
   "id": "0eedf51e",
   "metadata": {},
   "source": [
    "### Tabela de features\n",
    "\n",
    "Com o tratamento das tabelas STATUS e RESULTS, começamos a juntar as features para criar o modelo final."
   ]
  },
  {
   "cell_type": "code",
   "execution_count": 14,
   "id": "c2390bff-19e4-4a07-ba87-e97cbe346e47",
   "metadata": {},
   "outputs": [],
   "source": [
    "df = df_re.merge(df_st, on=\"KNR\")"
   ]
  },
  {
   "cell_type": "markdown",
   "id": "313dfa8c",
   "metadata": {},
   "source": [
    "Depois disso, adicionamos a nossa coluna de target (\"HAS_FALHA\") e preenchemos ela com a informação de se o KNR aparece na tabela de FALHAS."
   ]
  },
  {
   "cell_type": "code",
   "execution_count": 15,
   "id": "46dd1a5f-4ad3-4055-8e52-0ddae2f5af1b",
   "metadata": {},
   "outputs": [],
   "source": [
    "df[\"HAS_FALHA\"] = [0 for a in range(len(df))]\n",
    "df_fa = pd.read_csv(\"FALHAS_KNR.csv\")\n",
    "knrs = list(df_fa[\"KNR\"])\n",
    "for i in range(len(df)):\n",
    "    df.loc[i,\"HAS_FALHA\"] = 1 if df.loc[i,\"KNR\"] in knrs else 0"
   ]
  },
  {
   "cell_type": "markdown",
   "id": "da9f4c72",
   "metadata": {},
   "source": [
    "Após, retiramos as colunas com apenas um valor."
   ]
  },
  {
   "cell_type": "code",
   "execution_count": 16,
   "id": "4faa6288-6c27-45ab-9b7d-06b0b5984c2f",
   "metadata": {},
   "outputs": [],
   "source": [
    "cols = df.columns\n",
    "to_drop = []\n",
    "for c in range(1,len(cols)):\n",
    "    if len(df[cols[c]].unique()) == 1:\n",
    "        to_drop.append(cols[c])\n",
    "df = df.drop(columns=to_drop)"
   ]
  },
  {
   "cell_type": "markdown",
   "id": "f0771e72",
   "metadata": {},
   "source": [
    "Por fim, analisamos o número de KNRs com falhas e os sem falhas e selecionamos parte do banco de dados de maneira que ambos tenham o mesmo número de dados."
   ]
  },
  {
   "cell_type": "code",
   "execution_count": 18,
   "id": "14e8fbb5-e95f-4c11-8963-a6d245aa3311",
   "metadata": {},
   "outputs": [
    {
     "data": {
      "text/plain": [
       "HAS_FALHA\n",
       "1    7890\n",
       "0    7890\n",
       "Name: count, dtype: int64"
      ]
     },
     "execution_count": 18,
     "metadata": {},
     "output_type": "execute_result"
    }
   ],
   "source": [
    "counts = df[\"HAS_FALHA\"].value_counts()\n",
    "if counts[0] < counts[1]:\n",
    "    F = df[df[\"HAS_FALHA\"] == 1].sample(n=counts[0])\n",
    "    nF = df[df[\"HAS_FALHA\"] == 0]\n",
    "elif counts[0] > counts[1]:\n",
    "    nF = df[df[\"HAS_FALHA\"] == 0].sample(n=counts[1])\n",
    "    F = df[df[\"HAS_FALHA\"] == 1]\n",
    "\n",
    "\n",
    "df = pd.concat([F,nF])\n",
    "df = df.reset_index()\n",
    "df = df.drop(columns=[\"index\"])\n",
    "df[\"HAS_FALHA\"].value_counts()"
   ]
  },
  {
   "cell_type": "markdown",
   "id": "c6411322",
   "metadata": {},
   "source": [
    "## Criação do modelo\n",
    "\n",
    "As células seguintes possuem o código para criação e treino do modelo e elas serão divididas em duas ferramentas que apresentam dois modelos diferentes, o pycaret e o keras. Começaremos com os modelos criados pelo pycaret pois ele testa diversos modelo com diferentes hiperparâmetros para achar a melhor combinação, desta maneira, importamos a biblioteca necessária, removemos a coluna \"KNR\", dividimos os dados em treino e teste e fazemos o setup para o pycaret "
   ]
  },
  {
   "cell_type": "code",
   "execution_count": 19,
   "id": "8ff04587-cdaf-46e1-8175-a346ffb3a782",
   "metadata": {},
   "outputs": [
    {
     "name": "stdout",
     "output_type": "stream",
     "text": [
      "[LightGBM] [Warning] There are no meaningful features which satisfy the provided configuration. Decreasing Dataset parameters min_data_in_bin or min_data_in_leaf and re-constructing Dataset might resolve this warning.\n",
      "[LightGBM] [Info] Number of positive: 1, number of negative: 1\n",
      "[LightGBM] [Info] This is the GPU trainer!!\n",
      "[LightGBM] [Info] Total Bins 0\n",
      "[LightGBM] [Info] Number of data points in the train set: 2, number of used features: 0\n",
      "[LightGBM] [Warning] There are no meaningful features which satisfy the provided configuration. Decreasing Dataset parameters min_data_in_bin or min_data_in_leaf and re-constructing Dataset might resolve this warning.\n",
      "[LightGBM] [Warning] Using sparse features with CUDA is currently not supported.\n",
      "[LightGBM] [Info] Number of positive: 1, number of negative: 1\n",
      "[LightGBM] [Warning] There are no meaningful features which satisfy the provided configuration. Decreasing Dataset parameters min_data_in_bin or min_data_in_leaf and re-constructing Dataset might resolve this warning.\n",
      "[LightGBM] [Info] Number of positive: 1, number of negative: 1\n",
      "[LightGBM] [Info] This is the GPU trainer!!\n",
      "[LightGBM] [Info] Total Bins 0\n",
      "[LightGBM] [Info] Number of data points in the train set: 2, number of used features: 0\n",
      "[LightGBM] [Warning] There are no meaningful features which satisfy the provided configuration. Decreasing Dataset parameters min_data_in_bin or min_data_in_leaf and re-constructing Dataset might resolve this warning.\n",
      "[LightGBM] [Warning] Using sparse features with CUDA is currently not supported.\n",
      "[LightGBM] [Info] Number of positive: 1, number of negative: 1\n",
      "[LightGBM] [Warning] There are no meaningful features which satisfy the provided configuration. Decreasing Dataset parameters min_data_in_bin or min_data_in_leaf and re-constructing Dataset might resolve this warning.\n",
      "[LightGBM] [Info] Number of positive: 1, number of negative: 1\n",
      "[LightGBM] [Info] This is the GPU trainer!!\n",
      "[LightGBM] [Info] Total Bins 0\n",
      "[LightGBM] [Info] Number of data points in the train set: 2, number of used features: 0\n",
      "[LightGBM] [Warning] There are no meaningful features which satisfy the provided configuration. Decreasing Dataset parameters min_data_in_bin or min_data_in_leaf and re-constructing Dataset might resolve this warning.\n",
      "[LightGBM] [Warning] Using sparse features with CUDA is currently not supported.\n",
      "[LightGBM] [Info] Number of positive: 1, number of negative: 1\n",
      "[LightGBM] [Warning] There are no meaningful features which satisfy the provided configuration. Decreasing Dataset parameters min_data_in_bin or min_data_in_leaf and re-constructing Dataset might resolve this warning.\n",
      "[LightGBM] [Info] Number of positive: 1, number of negative: 1\n",
      "[LightGBM] [Info] This is the GPU trainer!!\n",
      "[LightGBM] [Info] Total Bins 0\n",
      "[LightGBM] [Info] Number of data points in the train set: 2, number of used features: 0\n",
      "[LightGBM] [Warning] There are no meaningful features which satisfy the provided configuration. Decreasing Dataset parameters min_data_in_bin or min_data_in_leaf and re-constructing Dataset might resolve this warning.\n",
      "[LightGBM] [Warning] Using sparse features with CUDA is currently not supported.\n",
      "[LightGBM] [Info] Number of positive: 1, number of negative: 1\n",
      "[LightGBM] [Warning] There are no meaningful features which satisfy the provided configuration. Decreasing Dataset parameters min_data_in_bin or min_data_in_leaf and re-constructing Dataset might resolve this warning.\n",
      "[LightGBM] [Info] Number of positive: 1, number of negative: 1\n",
      "[LightGBM] [Info] This is the GPU trainer!!\n",
      "[LightGBM] [Info] Total Bins 0\n",
      "[LightGBM] [Info] Number of data points in the train set: 2, number of used features: 0\n",
      "[LightGBM] [Warning] There are no meaningful features which satisfy the provided configuration. Decreasing Dataset parameters min_data_in_bin or min_data_in_leaf and re-constructing Dataset might resolve this warning.\n",
      "[LightGBM] [Warning] Using sparse features with CUDA is currently not supported.\n",
      "[LightGBM] [Info] Number of positive: 1, number of negative: 1\n",
      "[LightGBM] [Warning] There are no meaningful features which satisfy the provided configuration. Decreasing Dataset parameters min_data_in_bin or min_data_in_leaf and re-constructing Dataset might resolve this warning.\n",
      "[LightGBM] [Info] Number of positive: 1, number of negative: 1\n",
      "[LightGBM] [Info] This is the GPU trainer!!\n",
      "[LightGBM] [Info] Total Bins 0\n",
      "[LightGBM] [Info] Number of data points in the train set: 2, number of used features: 0\n",
      "[LightGBM] [Warning] There are no meaningful features which satisfy the provided configuration. Decreasing Dataset parameters min_data_in_bin or min_data_in_leaf and re-constructing Dataset might resolve this warning.\n",
      "[LightGBM] [Warning] Using sparse features with CUDA is currently not supported.\n",
      "[LightGBM] [Info] Number of positive: 1, number of negative: 1\n"
     ]
    },
    {
     "name": "stderr",
     "output_type": "stream",
     "text": [
      "[LightGBM] [Fatal] CUDA Tree Learner was not enabled in this build.\n",
      "Please recompile with CMake option -DUSE_CUDA=1\n",
      "[LightGBM] [Fatal] CUDA Tree Learner was not enabled in this build.\n",
      "Please recompile with CMake option -DUSE_CUDA=1\n",
      "[LightGBM] [Fatal] CUDA Tree Learner was not enabled in this build.\n",
      "Please recompile with CMake option -DUSE_CUDA=1\n",
      "[LightGBM] [Fatal] CUDA Tree Learner was not enabled in this build.\n",
      "Please recompile with CMake option -DUSE_CUDA=1\n",
      "[LightGBM] [Fatal] CUDA Tree Learner was not enabled in this build.\n",
      "Please recompile with CMake option -DUSE_CUDA=1\n",
      "[LightGBM] [Fatal] CUDA Tree Learner was not enabled in this build.\n",
      "Please recompile with CMake option -DUSE_CUDA=1\n"
     ]
    },
    {
     "data": {
      "text/html": [
       "<style type=\"text/css\">\n",
       "#T_61a65_row8_col1, #T_61a65_row15_col1 {\n",
       "  background-color: lightgreen;\n",
       "}\n",
       "</style>\n",
       "<table id=\"T_61a65\">\n",
       "  <thead>\n",
       "    <tr>\n",
       "      <th class=\"blank level0\" >&nbsp;</th>\n",
       "      <th id=\"T_61a65_level0_col0\" class=\"col_heading level0 col0\" >Description</th>\n",
       "      <th id=\"T_61a65_level0_col1\" class=\"col_heading level0 col1\" >Value</th>\n",
       "    </tr>\n",
       "  </thead>\n",
       "  <tbody>\n",
       "    <tr>\n",
       "      <th id=\"T_61a65_level0_row0\" class=\"row_heading level0 row0\" >0</th>\n",
       "      <td id=\"T_61a65_row0_col0\" class=\"data row0 col0\" >Session id</td>\n",
       "      <td id=\"T_61a65_row0_col1\" class=\"data row0 col1\" >123</td>\n",
       "    </tr>\n",
       "    <tr>\n",
       "      <th id=\"T_61a65_level0_row1\" class=\"row_heading level0 row1\" >1</th>\n",
       "      <td id=\"T_61a65_row1_col0\" class=\"data row1 col0\" >Target</td>\n",
       "      <td id=\"T_61a65_row1_col1\" class=\"data row1 col1\" >HAS_FALHA</td>\n",
       "    </tr>\n",
       "    <tr>\n",
       "      <th id=\"T_61a65_level0_row2\" class=\"row_heading level0 row2\" >2</th>\n",
       "      <td id=\"T_61a65_row2_col0\" class=\"data row2 col0\" >Target type</td>\n",
       "      <td id=\"T_61a65_row2_col1\" class=\"data row2 col1\" >Binary</td>\n",
       "    </tr>\n",
       "    <tr>\n",
       "      <th id=\"T_61a65_level0_row3\" class=\"row_heading level0 row3\" >3</th>\n",
       "      <td id=\"T_61a65_row3_col0\" class=\"data row3 col0\" >Original data shape</td>\n",
       "      <td id=\"T_61a65_row3_col1\" class=\"data row3 col1\" >(15780, 264)</td>\n",
       "    </tr>\n",
       "    <tr>\n",
       "      <th id=\"T_61a65_level0_row4\" class=\"row_heading level0 row4\" >4</th>\n",
       "      <td id=\"T_61a65_row4_col0\" class=\"data row4 col0\" >Transformed data shape</td>\n",
       "      <td id=\"T_61a65_row4_col1\" class=\"data row4 col1\" >(15780, 264)</td>\n",
       "    </tr>\n",
       "    <tr>\n",
       "      <th id=\"T_61a65_level0_row5\" class=\"row_heading level0 row5\" >5</th>\n",
       "      <td id=\"T_61a65_row5_col0\" class=\"data row5 col0\" >Transformed train set shape</td>\n",
       "      <td id=\"T_61a65_row5_col1\" class=\"data row5 col1\" >(11046, 264)</td>\n",
       "    </tr>\n",
       "    <tr>\n",
       "      <th id=\"T_61a65_level0_row6\" class=\"row_heading level0 row6\" >6</th>\n",
       "      <td id=\"T_61a65_row6_col0\" class=\"data row6 col0\" >Transformed test set shape</td>\n",
       "      <td id=\"T_61a65_row6_col1\" class=\"data row6 col1\" >(4734, 264)</td>\n",
       "    </tr>\n",
       "    <tr>\n",
       "      <th id=\"T_61a65_level0_row7\" class=\"row_heading level0 row7\" >7</th>\n",
       "      <td id=\"T_61a65_row7_col0\" class=\"data row7 col0\" >Numeric features</td>\n",
       "      <td id=\"T_61a65_row7_col1\" class=\"data row7 col1\" >263</td>\n",
       "    </tr>\n",
       "    <tr>\n",
       "      <th id=\"T_61a65_level0_row8\" class=\"row_heading level0 row8\" >8</th>\n",
       "      <td id=\"T_61a65_row8_col0\" class=\"data row8 col0\" >Preprocess</td>\n",
       "      <td id=\"T_61a65_row8_col1\" class=\"data row8 col1\" >True</td>\n",
       "    </tr>\n",
       "    <tr>\n",
       "      <th id=\"T_61a65_level0_row9\" class=\"row_heading level0 row9\" >9</th>\n",
       "      <td id=\"T_61a65_row9_col0\" class=\"data row9 col0\" >Imputation type</td>\n",
       "      <td id=\"T_61a65_row9_col1\" class=\"data row9 col1\" >simple</td>\n",
       "    </tr>\n",
       "    <tr>\n",
       "      <th id=\"T_61a65_level0_row10\" class=\"row_heading level0 row10\" >10</th>\n",
       "      <td id=\"T_61a65_row10_col0\" class=\"data row10 col0\" >Numeric imputation</td>\n",
       "      <td id=\"T_61a65_row10_col1\" class=\"data row10 col1\" >mean</td>\n",
       "    </tr>\n",
       "    <tr>\n",
       "      <th id=\"T_61a65_level0_row11\" class=\"row_heading level0 row11\" >11</th>\n",
       "      <td id=\"T_61a65_row11_col0\" class=\"data row11 col0\" >Categorical imputation</td>\n",
       "      <td id=\"T_61a65_row11_col1\" class=\"data row11 col1\" >mode</td>\n",
       "    </tr>\n",
       "    <tr>\n",
       "      <th id=\"T_61a65_level0_row12\" class=\"row_heading level0 row12\" >12</th>\n",
       "      <td id=\"T_61a65_row12_col0\" class=\"data row12 col0\" >Fold Generator</td>\n",
       "      <td id=\"T_61a65_row12_col1\" class=\"data row12 col1\" >StratifiedKFold</td>\n",
       "    </tr>\n",
       "    <tr>\n",
       "      <th id=\"T_61a65_level0_row13\" class=\"row_heading level0 row13\" >13</th>\n",
       "      <td id=\"T_61a65_row13_col0\" class=\"data row13 col0\" >Fold Number</td>\n",
       "      <td id=\"T_61a65_row13_col1\" class=\"data row13 col1\" >10</td>\n",
       "    </tr>\n",
       "    <tr>\n",
       "      <th id=\"T_61a65_level0_row14\" class=\"row_heading level0 row14\" >14</th>\n",
       "      <td id=\"T_61a65_row14_col0\" class=\"data row14 col0\" >CPU Jobs</td>\n",
       "      <td id=\"T_61a65_row14_col1\" class=\"data row14 col1\" >-1</td>\n",
       "    </tr>\n",
       "    <tr>\n",
       "      <th id=\"T_61a65_level0_row15\" class=\"row_heading level0 row15\" >15</th>\n",
       "      <td id=\"T_61a65_row15_col0\" class=\"data row15 col0\" >Use GPU</td>\n",
       "      <td id=\"T_61a65_row15_col1\" class=\"data row15 col1\" >True</td>\n",
       "    </tr>\n",
       "    <tr>\n",
       "      <th id=\"T_61a65_level0_row16\" class=\"row_heading level0 row16\" >16</th>\n",
       "      <td id=\"T_61a65_row16_col0\" class=\"data row16 col0\" >Log Experiment</td>\n",
       "      <td id=\"T_61a65_row16_col1\" class=\"data row16 col1\" >False</td>\n",
       "    </tr>\n",
       "    <tr>\n",
       "      <th id=\"T_61a65_level0_row17\" class=\"row_heading level0 row17\" >17</th>\n",
       "      <td id=\"T_61a65_row17_col0\" class=\"data row17 col0\" >Experiment Name</td>\n",
       "      <td id=\"T_61a65_row17_col1\" class=\"data row17 col1\" >clf-default-name</td>\n",
       "    </tr>\n",
       "    <tr>\n",
       "      <th id=\"T_61a65_level0_row18\" class=\"row_heading level0 row18\" >18</th>\n",
       "      <td id=\"T_61a65_row18_col0\" class=\"data row18 col0\" >USI</td>\n",
       "      <td id=\"T_61a65_row18_col1\" class=\"data row18 col1\" >8c06</td>\n",
       "    </tr>\n",
       "  </tbody>\n",
       "</table>\n"
      ],
      "text/plain": [
       "<pandas.io.formats.style.Styler at 0x77cdac8978e0>"
      ]
     },
     "metadata": {},
     "output_type": "display_data"
    },
    {
     "name": "stdout",
     "output_type": "stream",
     "text": [
      "[LightGBM] [Warning] There are no meaningful features which satisfy the provided configuration. Decreasing Dataset parameters min_data_in_bin or min_data_in_leaf and re-constructing Dataset might resolve this warning.\n",
      "[LightGBM] [Info] Number of positive: 1, number of negative: 1\n",
      "[LightGBM] [Info] This is the GPU trainer!!\n",
      "[LightGBM] [Info] Total Bins 0\n",
      "[LightGBM] [Info] Number of data points in the train set: 2, number of used features: 0\n",
      "[LightGBM] [Warning] There are no meaningful features which satisfy the provided configuration. Decreasing Dataset parameters min_data_in_bin or min_data_in_leaf and re-constructing Dataset might resolve this warning.\n",
      "[LightGBM] [Warning] Using sparse features with CUDA is currently not supported.\n",
      "[LightGBM] [Info] Number of positive: 1, number of negative: 1\n",
      "[LightGBM] [Warning] There are no meaningful features which satisfy the provided configuration. Decreasing Dataset parameters min_data_in_bin or min_data_in_leaf and re-constructing Dataset might resolve this warning.\n",
      "[LightGBM] [Info] Number of positive: 1, number of negative: 1\n",
      "[LightGBM] [Info] This is the GPU trainer!!\n",
      "[LightGBM] [Info] Total Bins 0\n",
      "[LightGBM] [Info] Number of data points in the train set: 2, number of used features: 0\n",
      "[LightGBM] [Warning] There are no meaningful features which satisfy the provided configuration. Decreasing Dataset parameters min_data_in_bin or min_data_in_leaf and re-constructing Dataset might resolve this warning.\n",
      "[LightGBM] [Warning] Using sparse features with CUDA is currently not supported.\n",
      "[LightGBM] [Info] Number of positive: 1, number of negative: 1\n"
     ]
    },
    {
     "name": "stderr",
     "output_type": "stream",
     "text": [
      "[LightGBM] [Fatal] CUDA Tree Learner was not enabled in this build.\n",
      "Please recompile with CMake option -DUSE_CUDA=1\n",
      "[LightGBM] [Fatal] CUDA Tree Learner was not enabled in this build.\n",
      "Please recompile with CMake option -DUSE_CUDA=1\n"
     ]
    }
   ],
   "source": [
    "from pycaret.classification import *\n",
    "from sklearn.model_selection import train_test_split\n",
    "\n",
    "\n",
    "df = df.drop(columns=[\"KNR\"])\n",
    "\n",
    "y = df[\"HAS_FALHA\"]\n",
    "X = df.drop(columns=[\"HAS_FALHA\"])\n",
    "X_train, X_test, y_train, y_test = train_test_split(X,y,test_size=0.33, random_state=42)\n",
    "df_train = X_train.copy()\n",
    "df_train[\"HAS_FALHA\"] = y_train\n",
    "\n",
    "s = setup(df_train, target = 'HAS_FALHA', session_id = 123, use_gpu=True)"
   ]
  },
  {
   "cell_type": "markdown",
   "id": "41dccebb",
   "metadata": {},
   "source": [
    "Depois do setup, chamamos o comparador de modelos, retirando alguns modelos que causam problema no treinamento."
   ]
  },
  {
   "cell_type": "code",
   "execution_count": 20,
   "id": "7843484c-58a7-4ccd-a007-1bc49b01d33a",
   "metadata": {},
   "outputs": [
    {
     "data": {
      "text/html": [],
      "text/plain": [
       "<IPython.core.display.HTML object>"
      ]
     },
     "metadata": {},
     "output_type": "display_data"
    },
    {
     "data": {
      "text/html": [
       "<style type=\"text/css\">\n",
       "#T_6ee26 th {\n",
       "  text-align: left;\n",
       "}\n",
       "#T_6ee26_row0_col0, #T_6ee26_row0_col3, #T_6ee26_row0_col4, #T_6ee26_row0_col5, #T_6ee26_row0_col7, #T_6ee26_row1_col0, #T_6ee26_row1_col1, #T_6ee26_row1_col2, #T_6ee26_row1_col3, #T_6ee26_row1_col4, #T_6ee26_row1_col6, #T_6ee26_row2_col0, #T_6ee26_row2_col1, #T_6ee26_row2_col2, #T_6ee26_row2_col3, #T_6ee26_row2_col4, #T_6ee26_row2_col5, #T_6ee26_row2_col6, #T_6ee26_row2_col7, #T_6ee26_row3_col0, #T_6ee26_row3_col1, #T_6ee26_row3_col2, #T_6ee26_row3_col3, #T_6ee26_row3_col4, #T_6ee26_row3_col5, #T_6ee26_row3_col6, #T_6ee26_row3_col7, #T_6ee26_row4_col0, #T_6ee26_row4_col1, #T_6ee26_row4_col2, #T_6ee26_row4_col3, #T_6ee26_row4_col4, #T_6ee26_row4_col5, #T_6ee26_row4_col6, #T_6ee26_row4_col7, #T_6ee26_row5_col0, #T_6ee26_row5_col1, #T_6ee26_row5_col2, #T_6ee26_row5_col3, #T_6ee26_row5_col4, #T_6ee26_row5_col5, #T_6ee26_row5_col6, #T_6ee26_row5_col7, #T_6ee26_row6_col0, #T_6ee26_row6_col1, #T_6ee26_row6_col2, #T_6ee26_row6_col3, #T_6ee26_row6_col4, #T_6ee26_row6_col5, #T_6ee26_row6_col6, #T_6ee26_row6_col7, #T_6ee26_row7_col0, #T_6ee26_row7_col1, #T_6ee26_row7_col2, #T_6ee26_row7_col3, #T_6ee26_row7_col5, #T_6ee26_row7_col6, #T_6ee26_row7_col7, #T_6ee26_row8_col0, #T_6ee26_row8_col1, #T_6ee26_row8_col2, #T_6ee26_row8_col3, #T_6ee26_row8_col4, #T_6ee26_row8_col5, #T_6ee26_row8_col6, #T_6ee26_row8_col7, #T_6ee26_row9_col0, #T_6ee26_row9_col1, #T_6ee26_row9_col2, #T_6ee26_row9_col3, #T_6ee26_row9_col4, #T_6ee26_row9_col5, #T_6ee26_row9_col6, #T_6ee26_row9_col7, #T_6ee26_row10_col0, #T_6ee26_row10_col1, #T_6ee26_row10_col2, #T_6ee26_row10_col3, #T_6ee26_row10_col4, #T_6ee26_row10_col5, #T_6ee26_row10_col6, #T_6ee26_row10_col7, #T_6ee26_row11_col0, #T_6ee26_row11_col1, #T_6ee26_row11_col2, #T_6ee26_row11_col4, #T_6ee26_row11_col5, #T_6ee26_row11_col6, #T_6ee26_row11_col7, #T_6ee26_row12_col0, #T_6ee26_row12_col1, #T_6ee26_row12_col2, #T_6ee26_row12_col3, #T_6ee26_row12_col4, #T_6ee26_row12_col5, #T_6ee26_row12_col6, #T_6ee26_row12_col7 {\n",
       "  text-align: left;\n",
       "}\n",
       "#T_6ee26_row0_col1, #T_6ee26_row0_col2, #T_6ee26_row0_col6, #T_6ee26_row1_col5, #T_6ee26_row1_col7, #T_6ee26_row7_col4, #T_6ee26_row11_col3 {\n",
       "  text-align: left;\n",
       "  background-color: yellow;\n",
       "}\n",
       "#T_6ee26_row0_col8, #T_6ee26_row1_col8, #T_6ee26_row2_col8, #T_6ee26_row3_col8, #T_6ee26_row4_col8, #T_6ee26_row5_col8, #T_6ee26_row6_col8, #T_6ee26_row7_col8, #T_6ee26_row8_col8, #T_6ee26_row9_col8, #T_6ee26_row10_col8, #T_6ee26_row11_col8 {\n",
       "  text-align: left;\n",
       "  background-color: lightgrey;\n",
       "}\n",
       "#T_6ee26_row12_col8 {\n",
       "  text-align: left;\n",
       "  background-color: yellow;\n",
       "  background-color: lightgrey;\n",
       "}\n",
       "</style>\n",
       "<table id=\"T_6ee26\">\n",
       "  <thead>\n",
       "    <tr>\n",
       "      <th class=\"blank level0\" >&nbsp;</th>\n",
       "      <th id=\"T_6ee26_level0_col0\" class=\"col_heading level0 col0\" >Model</th>\n",
       "      <th id=\"T_6ee26_level0_col1\" class=\"col_heading level0 col1\" >Accuracy</th>\n",
       "      <th id=\"T_6ee26_level0_col2\" class=\"col_heading level0 col2\" >AUC</th>\n",
       "      <th id=\"T_6ee26_level0_col3\" class=\"col_heading level0 col3\" >Recall</th>\n",
       "      <th id=\"T_6ee26_level0_col4\" class=\"col_heading level0 col4\" >Prec.</th>\n",
       "      <th id=\"T_6ee26_level0_col5\" class=\"col_heading level0 col5\" >F1</th>\n",
       "      <th id=\"T_6ee26_level0_col6\" class=\"col_heading level0 col6\" >Kappa</th>\n",
       "      <th id=\"T_6ee26_level0_col7\" class=\"col_heading level0 col7\" >MCC</th>\n",
       "      <th id=\"T_6ee26_level0_col8\" class=\"col_heading level0 col8\" >TT (Sec)</th>\n",
       "    </tr>\n",
       "  </thead>\n",
       "  <tbody>\n",
       "    <tr>\n",
       "      <th id=\"T_6ee26_level0_row0\" class=\"row_heading level0 row0\" >rf</th>\n",
       "      <td id=\"T_6ee26_row0_col0\" class=\"data row0 col0\" >Random Forest Classifier</td>\n",
       "      <td id=\"T_6ee26_row0_col1\" class=\"data row0 col1\" >0.8947</td>\n",
       "      <td id=\"T_6ee26_row0_col2\" class=\"data row0 col2\" >0.9606</td>\n",
       "      <td id=\"T_6ee26_row0_col3\" class=\"data row0 col3\" >0.9493</td>\n",
       "      <td id=\"T_6ee26_row0_col4\" class=\"data row0 col4\" >0.8559</td>\n",
       "      <td id=\"T_6ee26_row0_col5\" class=\"data row0 col5\" >0.9001</td>\n",
       "      <td id=\"T_6ee26_row0_col6\" class=\"data row0 col6\" >0.7894</td>\n",
       "      <td id=\"T_6ee26_row0_col7\" class=\"data row0 col7\" >0.7943</td>\n",
       "      <td id=\"T_6ee26_row0_col8\" class=\"data row0 col8\" >0.1720</td>\n",
       "    </tr>\n",
       "    <tr>\n",
       "      <th id=\"T_6ee26_level0_row1\" class=\"row_heading level0 row1\" >gbc</th>\n",
       "      <td id=\"T_6ee26_row1_col0\" class=\"data row1 col0\" >Gradient Boosting Classifier</td>\n",
       "      <td id=\"T_6ee26_row1_col1\" class=\"data row1 col1\" >0.8937</td>\n",
       "      <td id=\"T_6ee26_row1_col2\" class=\"data row1 col2\" >0.9579</td>\n",
       "      <td id=\"T_6ee26_row1_col3\" class=\"data row1 col3\" >0.9819</td>\n",
       "      <td id=\"T_6ee26_row1_col4\" class=\"data row1 col4\" >0.8348</td>\n",
       "      <td id=\"T_6ee26_row1_col5\" class=\"data row1 col5\" >0.9023</td>\n",
       "      <td id=\"T_6ee26_row1_col6\" class=\"data row1 col6\" >0.7874</td>\n",
       "      <td id=\"T_6ee26_row1_col7\" class=\"data row1 col7\" >0.8001</td>\n",
       "      <td id=\"T_6ee26_row1_col8\" class=\"data row1 col8\" >2.0730</td>\n",
       "    </tr>\n",
       "    <tr>\n",
       "      <th id=\"T_6ee26_level0_row2\" class=\"row_heading level0 row2\" >et</th>\n",
       "      <td id=\"T_6ee26_row2_col0\" class=\"data row2 col0\" >Extra Trees Classifier</td>\n",
       "      <td id=\"T_6ee26_row2_col1\" class=\"data row2 col1\" >0.8823</td>\n",
       "      <td id=\"T_6ee26_row2_col2\" class=\"data row2 col2\" >0.9531</td>\n",
       "      <td id=\"T_6ee26_row2_col3\" class=\"data row2 col3\" >0.9178</td>\n",
       "      <td id=\"T_6ee26_row2_col4\" class=\"data row2 col4\" >0.8571</td>\n",
       "      <td id=\"T_6ee26_row2_col5\" class=\"data row2 col5\" >0.8863</td>\n",
       "      <td id=\"T_6ee26_row2_col6\" class=\"data row2 col6\" >0.7646</td>\n",
       "      <td id=\"T_6ee26_row2_col7\" class=\"data row2 col7\" >0.7667</td>\n",
       "      <td id=\"T_6ee26_row2_col8\" class=\"data row2 col8\" >0.1670</td>\n",
       "    </tr>\n",
       "    <tr>\n",
       "      <th id=\"T_6ee26_level0_row3\" class=\"row_heading level0 row3\" >lr</th>\n",
       "      <td id=\"T_6ee26_row3_col0\" class=\"data row3 col0\" >Logistic Regression</td>\n",
       "      <td id=\"T_6ee26_row3_col1\" class=\"data row3 col1\" >0.8782</td>\n",
       "      <td id=\"T_6ee26_row3_col2\" class=\"data row3 col2\" >0.9489</td>\n",
       "      <td id=\"T_6ee26_row3_col3\" class=\"data row3 col3\" >0.9361</td>\n",
       "      <td id=\"T_6ee26_row3_col4\" class=\"data row3 col4\" >0.8391</td>\n",
       "      <td id=\"T_6ee26_row3_col5\" class=\"data row3 col5\" >0.8849</td>\n",
       "      <td id=\"T_6ee26_row3_col6\" class=\"data row3 col6\" >0.7565</td>\n",
       "      <td id=\"T_6ee26_row3_col7\" class=\"data row3 col7\" >0.7617</td>\n",
       "      <td id=\"T_6ee26_row3_col8\" class=\"data row3 col8\" >0.1510</td>\n",
       "    </tr>\n",
       "    <tr>\n",
       "      <th id=\"T_6ee26_level0_row4\" class=\"row_heading level0 row4\" >ada</th>\n",
       "      <td id=\"T_6ee26_row4_col0\" class=\"data row4 col0\" >Ada Boost Classifier</td>\n",
       "      <td id=\"T_6ee26_row4_col1\" class=\"data row4 col1\" >0.8765</td>\n",
       "      <td id=\"T_6ee26_row4_col2\" class=\"data row4 col2\" >0.9493</td>\n",
       "      <td id=\"T_6ee26_row4_col3\" class=\"data row4 col3\" >0.9370</td>\n",
       "      <td id=\"T_6ee26_row4_col4\" class=\"data row4 col4\" >0.8360</td>\n",
       "      <td id=\"T_6ee26_row4_col5\" class=\"data row4 col5\" >0.8836</td>\n",
       "      <td id=\"T_6ee26_row4_col6\" class=\"data row4 col6\" >0.7530</td>\n",
       "      <td id=\"T_6ee26_row4_col7\" class=\"data row4 col7\" >0.7587</td>\n",
       "      <td id=\"T_6ee26_row4_col8\" class=\"data row4 col8\" >0.4680</td>\n",
       "    </tr>\n",
       "    <tr>\n",
       "      <th id=\"T_6ee26_level0_row5\" class=\"row_heading level0 row5\" >ridge</th>\n",
       "      <td id=\"T_6ee26_row5_col0\" class=\"data row5 col0\" >Ridge Classifier</td>\n",
       "      <td id=\"T_6ee26_row5_col1\" class=\"data row5 col1\" >0.8741</td>\n",
       "      <td id=\"T_6ee26_row5_col2\" class=\"data row5 col2\" >0.9423</td>\n",
       "      <td id=\"T_6ee26_row5_col3\" class=\"data row5 col3\" >0.9540</td>\n",
       "      <td id=\"T_6ee26_row5_col4\" class=\"data row5 col4\" >0.8226</td>\n",
       "      <td id=\"T_6ee26_row5_col5\" class=\"data row5 col5\" >0.8834</td>\n",
       "      <td id=\"T_6ee26_row5_col6\" class=\"data row5 col6\" >0.7481</td>\n",
       "      <td id=\"T_6ee26_row5_col7\" class=\"data row5 col7\" >0.7579</td>\n",
       "      <td id=\"T_6ee26_row5_col8\" class=\"data row5 col8\" >0.0850</td>\n",
       "    </tr>\n",
       "    <tr>\n",
       "      <th id=\"T_6ee26_level0_row6\" class=\"row_heading level0 row6\" >lda</th>\n",
       "      <td id=\"T_6ee26_row6_col0\" class=\"data row6 col0\" >Linear Discriminant Analysis</td>\n",
       "      <td id=\"T_6ee26_row6_col1\" class=\"data row6 col1\" >0.8731</td>\n",
       "      <td id=\"T_6ee26_row6_col2\" class=\"data row6 col2\" >0.9416</td>\n",
       "      <td id=\"T_6ee26_row6_col3\" class=\"data row6 col3\" >0.9526</td>\n",
       "      <td id=\"T_6ee26_row6_col4\" class=\"data row6 col4\" >0.8220</td>\n",
       "      <td id=\"T_6ee26_row6_col5\" class=\"data row6 col5\" >0.8824</td>\n",
       "      <td id=\"T_6ee26_row6_col6\" class=\"data row6 col6\" >0.7461</td>\n",
       "      <td id=\"T_6ee26_row6_col7\" class=\"data row6 col7\" >0.7558</td>\n",
       "      <td id=\"T_6ee26_row6_col8\" class=\"data row6 col8\" >0.1280</td>\n",
       "    </tr>\n",
       "    <tr>\n",
       "      <th id=\"T_6ee26_level0_row7\" class=\"row_heading level0 row7\" >dt</th>\n",
       "      <td id=\"T_6ee26_row7_col0\" class=\"data row7 col0\" >Decision Tree Classifier</td>\n",
       "      <td id=\"T_6ee26_row7_col1\" class=\"data row7 col1\" >0.8634</td>\n",
       "      <td id=\"T_6ee26_row7_col2\" class=\"data row7 col2\" >0.8634</td>\n",
       "      <td id=\"T_6ee26_row7_col3\" class=\"data row7 col3\" >0.8644</td>\n",
       "      <td id=\"T_6ee26_row7_col4\" class=\"data row7 col4\" >0.8627</td>\n",
       "      <td id=\"T_6ee26_row7_col5\" class=\"data row7 col5\" >0.8635</td>\n",
       "      <td id=\"T_6ee26_row7_col6\" class=\"data row7 col6\" >0.7268</td>\n",
       "      <td id=\"T_6ee26_row7_col7\" class=\"data row7 col7\" >0.7269</td>\n",
       "      <td id=\"T_6ee26_row7_col8\" class=\"data row7 col8\" >0.1180</td>\n",
       "    </tr>\n",
       "    <tr>\n",
       "      <th id=\"T_6ee26_level0_row8\" class=\"row_heading level0 row8\" >knn</th>\n",
       "      <td id=\"T_6ee26_row8_col0\" class=\"data row8 col0\" >K Neighbors Classifier</td>\n",
       "      <td id=\"T_6ee26_row8_col1\" class=\"data row8 col1\" >0.8527</td>\n",
       "      <td id=\"T_6ee26_row8_col2\" class=\"data row8 col2\" >0.9270</td>\n",
       "      <td id=\"T_6ee26_row8_col3\" class=\"data row8 col3\" >0.8707</td>\n",
       "      <td id=\"T_6ee26_row8_col4\" class=\"data row8 col4\" >0.8405</td>\n",
       "      <td id=\"T_6ee26_row8_col5\" class=\"data row8 col5\" >0.8553</td>\n",
       "      <td id=\"T_6ee26_row8_col6\" class=\"data row8 col6\" >0.7054</td>\n",
       "      <td id=\"T_6ee26_row8_col7\" class=\"data row8 col7\" >0.7060</td>\n",
       "      <td id=\"T_6ee26_row8_col8\" class=\"data row8 col8\" >0.1280</td>\n",
       "    </tr>\n",
       "    <tr>\n",
       "      <th id=\"T_6ee26_level0_row9\" class=\"row_heading level0 row9\" >svm</th>\n",
       "      <td id=\"T_6ee26_row9_col0\" class=\"data row9 col0\" >SVM - Linear Kernel</td>\n",
       "      <td id=\"T_6ee26_row9_col1\" class=\"data row9 col1\" >0.8446</td>\n",
       "      <td id=\"T_6ee26_row9_col2\" class=\"data row9 col2\" >0.9438</td>\n",
       "      <td id=\"T_6ee26_row9_col3\" class=\"data row9 col3\" >0.8468</td>\n",
       "      <td id=\"T_6ee26_row9_col4\" class=\"data row9 col4\" >0.8571</td>\n",
       "      <td id=\"T_6ee26_row9_col5\" class=\"data row9 col5\" >0.8399</td>\n",
       "      <td id=\"T_6ee26_row9_col6\" class=\"data row9 col6\" >0.6893</td>\n",
       "      <td id=\"T_6ee26_row9_col7\" class=\"data row9 col7\" >0.7075</td>\n",
       "      <td id=\"T_6ee26_row9_col8\" class=\"data row9 col8\" >0.2380</td>\n",
       "    </tr>\n",
       "    <tr>\n",
       "      <th id=\"T_6ee26_level0_row10\" class=\"row_heading level0 row10\" >nb</th>\n",
       "      <td id=\"T_6ee26_row10_col0\" class=\"data row10 col0\" >Naive Bayes</td>\n",
       "      <td id=\"T_6ee26_row10_col1\" class=\"data row10 col1\" >0.5827</td>\n",
       "      <td id=\"T_6ee26_row10_col2\" class=\"data row10 col2\" >0.8722</td>\n",
       "      <td id=\"T_6ee26_row10_col3\" class=\"data row10 col3\" >0.2305</td>\n",
       "      <td id=\"T_6ee26_row10_col4\" class=\"data row10 col4\" >0.7779</td>\n",
       "      <td id=\"T_6ee26_row10_col5\" class=\"data row10 col5\" >0.3551</td>\n",
       "      <td id=\"T_6ee26_row10_col6\" class=\"data row10 col6\" >0.1655</td>\n",
       "      <td id=\"T_6ee26_row10_col7\" class=\"data row10 col7\" >0.2323</td>\n",
       "      <td id=\"T_6ee26_row10_col8\" class=\"data row10 col8\" >0.0440</td>\n",
       "    </tr>\n",
       "    <tr>\n",
       "      <th id=\"T_6ee26_level0_row11\" class=\"row_heading level0 row11\" >qda</th>\n",
       "      <td id=\"T_6ee26_row11_col0\" class=\"data row11 col0\" >Quadratic Discriminant Analysis</td>\n",
       "      <td id=\"T_6ee26_row11_col1\" class=\"data row11 col1\" >0.5040</td>\n",
       "      <td id=\"T_6ee26_row11_col2\" class=\"data row11 col2\" >0.5656</td>\n",
       "      <td id=\"T_6ee26_row11_col3\" class=\"data row11 col3\" >0.9976</td>\n",
       "      <td id=\"T_6ee26_row11_col4\" class=\"data row11 col4\" >0.5021</td>\n",
       "      <td id=\"T_6ee26_row11_col5\" class=\"data row11 col5\" >0.6680</td>\n",
       "      <td id=\"T_6ee26_row11_col6\" class=\"data row11 col6\" >0.0080</td>\n",
       "      <td id=\"T_6ee26_row11_col7\" class=\"data row11 col7\" >0.0253</td>\n",
       "      <td id=\"T_6ee26_row11_col8\" class=\"data row11 col8\" >0.1240</td>\n",
       "    </tr>\n",
       "    <tr>\n",
       "      <th id=\"T_6ee26_level0_row12\" class=\"row_heading level0 row12\" >dummy</th>\n",
       "      <td id=\"T_6ee26_row12_col0\" class=\"data row12 col0\" >Dummy Classifier</td>\n",
       "      <td id=\"T_6ee26_row12_col1\" class=\"data row12 col1\" >0.4997</td>\n",
       "      <td id=\"T_6ee26_row12_col2\" class=\"data row12 col2\" >0.5000</td>\n",
       "      <td id=\"T_6ee26_row12_col3\" class=\"data row12 col3\" >0.3000</td>\n",
       "      <td id=\"T_6ee26_row12_col4\" class=\"data row12 col4\" >0.1499</td>\n",
       "      <td id=\"T_6ee26_row12_col5\" class=\"data row12 col5\" >0.1999</td>\n",
       "      <td id=\"T_6ee26_row12_col6\" class=\"data row12 col6\" >0.0000</td>\n",
       "      <td id=\"T_6ee26_row12_col7\" class=\"data row12 col7\" >0.0000</td>\n",
       "      <td id=\"T_6ee26_row12_col8\" class=\"data row12 col8\" >0.0350</td>\n",
       "    </tr>\n",
       "  </tbody>\n",
       "</table>\n"
      ],
      "text/plain": [
       "<pandas.io.formats.style.Styler at 0x77cdae3c33a0>"
      ]
     },
     "metadata": {},
     "output_type": "display_data"
    },
    {
     "data": {
      "text/html": [],
      "text/plain": [
       "<IPython.core.display.HTML object>"
      ]
     },
     "metadata": {},
     "output_type": "display_data"
    }
   ],
   "source": [
    "best = compare_models(errors=\"raise\", exclude=['lightgbm',\"xgboost\",\"catboost\"])"
   ]
  },
  {
   "cell_type": "markdown",
   "id": "6e2e8305",
   "metadata": {},
   "source": [
    "Obtendo a informação do melhor modelo encontrado, utilizamos os dados de teste a confirmamos as métricas do modelo."
   ]
  },
  {
   "cell_type": "code",
   "execution_count": 21,
   "id": "d7f0d4fa-a477-4190-a1fc-88026c053dce",
   "metadata": {},
   "outputs": [
    {
     "name": "stdout",
     "output_type": "stream",
     "text": [
      "Precisão (treino): 0.9682179341657208  |  Precisão (teste): 0.9682179341657208\n",
      "Recall (treino): 0.9682179341657208  |  Recall (teste): 0.9654377880184332\n",
      "F1-score (treino): 0.9682179341657208  |  F1-score (teste): 0.9654377880184332\n"
     ]
    },
    {
     "data": {
      "image/png": "[encoded data removed]",
      "text/plain": [
       "<Figure size 800x550 with 2 Axes>"
      ]
     },
     "metadata": {},
     "output_type": "display_data"
    }
   ],
   "source": [
    "from sklearn.model_selection import train_test_split\n",
    "from sklearn.metrics import ConfusionMatrixDisplay, recall_score, f1_score\n",
    "\n",
    "y_predTe = best.predict(X_test)\n",
    "y_predTr = best.predict(X_train)\n",
    "print(f\"Precisão (treino): {best.score(X_train,y_train)}  |  Precisão (teste): {best.score(X_test,y_test)}\")\n",
    "print(f\"Recall (treino): {recall_score(y_train, y_predTr,average='micro')}  |  Recall (teste): {recall_score(y_test, y_predTe,average='micro')}\")\n",
    "print(f\"F1-score (treino): {f1_score(y_train, y_predTr,average='micro')}  |  F1-score (teste): {f1_score(y_test, y_predTe,average='micro')}\")\n",
    "_ = ConfusionMatrixDisplay.from_estimator(best,X_test,y_test)"
   ]
  },
  {
   "cell_type": "markdown",
   "id": "7d0c579c",
   "metadata": {},
   "source": [
    "Depois do pycaret, utilizamos uma rede neural com neurônios do tipo Dense para fazer a previsão como uma segunda opção de modelo. Para tal, separamos novamente entre dados de treino e teste."
   ]
  },
  {
   "cell_type": "code",
   "execution_count": null,
   "id": "a5075b8a",
   "metadata": {},
   "outputs": [],
   "source": [
    "import joblib\n",
    "joblib.dump(best, \"model.pkl\")"
   ]
  },
  {
   "cell_type": "code",
   "execution_count": 36,
   "id": "e73e5bb0-6af7-46f3-b450-c46f2cfac10a",
   "metadata": {},
   "outputs": [],
   "source": [
    "from sklearn.model_selection import train_test_split\n",
    "\n",
    "y =df[\"HAS_FALHA\"]\n",
    "X = df.drop(columns=[\"HAS_FALHA\"])\n",
    "\n",
    "X_train, X_test, y_train, y_test = train_test_split(X,y, test_size=0.33, random_state=1234)\n",
    "\n",
    "y_train = to_categorical(y_train)\n",
    "y_test = to_categorical(y_test)"
   ]
  },
  {
   "cell_type": "code",
   "execution_count": 37,
   "id": "4796e146-f0b1-4bcc-ab45-0d680c091da1",
   "metadata": {},
   "outputs": [],
   "source": [
    "model = Sequential()\n",
    "model.add(Input((263,)))\n",
    "model.add(Dense(512, activation='sigmoid'))\n",
    "model.add(Dense(256, activation='sigmoid'))\n",
    "model.add(Dense(256, activation='sigmoid'))\n",
    "model.add(Dense(64, activation='sigmoid'))\n",
    "model.add(Dense(2, activation='sigmoid'))"
   ]
  },
  {
   "cell_type": "code",
   "execution_count": 38,
   "id": "06514e92-4bfb-4c04-8481-c6bd435c8168",
   "metadata": {},
   "outputs": [
    {
     "data": {
      "text/html": [
       "<pre style=\"white-space:pre;overflow-x:auto;line-height:normal;font-family:Menlo,'DejaVu Sans Mono',consolas,'Courier New',monospace\"><span style=\"font-weight: bold\">Model: \"sequential_1\"</span>\n",
       "</pre>\n"
      ],
      "text/plain": [
       "\u001b[1mModel: \"sequential_1\"\u001b[0m\n"
      ]
     },
     "metadata": {},
     "output_type": "display_data"
    },
    {
     "data": {
      "text/html": [
       "<pre style=\"white-space:pre;overflow-x:auto;line-height:normal;font-family:Menlo,'DejaVu Sans Mono',consolas,'Courier New',monospace\">┏━━━━━━━━━━━━━━━━━━━━━━━━━━━━━━━━━┳━━━━━━━━━━━━━━━━━━━━━━━━┳━━━━━━━━━━━━━━━┓\n",
       "┃<span style=\"font-weight: bold\"> Layer (type)                    </span>┃<span style=\"font-weight: bold\"> Output Shape           </span>┃<span style=\"font-weight: bold\">       Param # </span>┃\n",
       "┡━━━━━━━━━━━━━━━━━━━━━━━━━━━━━━━━━╇━━━━━━━━━━━━━━━━━━━━━━━━╇━━━━━━━━━━━━━━━┩\n",
       "│ dense_5 (<span style=\"color: #0087ff; text-decoration-color: #0087ff\">Dense</span>)                 │ (<span style=\"color: #00d7ff; text-decoration-color: #00d7ff\">None</span>, <span style=\"color: #00af00; text-decoration-color: #00af00\">512</span>)            │       <span style=\"color: #00af00; text-decoration-color: #00af00\">135,168</span> │\n",
       "├─────────────────────────────────┼────────────────────────┼───────────────┤\n",
       "│ dense_6 (<span style=\"color: #0087ff; text-decoration-color: #0087ff\">Dense</span>)                 │ (<span style=\"color: #00d7ff; text-decoration-color: #00d7ff\">None</span>, <span style=\"color: #00af00; text-decoration-color: #00af00\">256</span>)            │       <span style=\"color: #00af00; text-decoration-color: #00af00\">131,328</span> │\n",
       "├─────────────────────────────────┼────────────────────────┼───────────────┤\n",
       "│ dense_7 (<span style=\"color: #0087ff; text-decoration-color: #0087ff\">Dense</span>)                 │ (<span style=\"color: #00d7ff; text-decoration-color: #00d7ff\">None</span>, <span style=\"color: #00af00; text-decoration-color: #00af00\">256</span>)            │        <span style=\"color: #00af00; text-decoration-color: #00af00\">65,792</span> │\n",
       "├─────────────────────────────────┼────────────────────────┼───────────────┤\n",
       "│ dense_8 (<span style=\"color: #0087ff; text-decoration-color: #0087ff\">Dense</span>)                 │ (<span style=\"color: #00d7ff; text-decoration-color: #00d7ff\">None</span>, <span style=\"color: #00af00; text-decoration-color: #00af00\">64</span>)             │        <span style=\"color: #00af00; text-decoration-color: #00af00\">16,448</span> │\n",
       "├─────────────────────────────────┼────────────────────────┼───────────────┤\n",
       "│ dense_9 (<span style=\"color: #0087ff; text-decoration-color: #0087ff\">Dense</span>)                 │ (<span style=\"color: #00d7ff; text-decoration-color: #00d7ff\">None</span>, <span style=\"color: #00af00; text-decoration-color: #00af00\">2</span>)              │           <span style=\"color: #00af00; text-decoration-color: #00af00\">130</span> │\n",
       "└─────────────────────────────────┴────────────────────────┴───────────────┘\n",
       "</pre>\n"
      ],
      "text/plain": [
       "┏━━━━━━━━━━━━━━━━━━━━━━━━━━━━━━━━━┳━━━━━━━━━━━━━━━━━━━━━━━━┳━━━━━━━━━━━━━━━┓\n",
       "┃\u001b[1m \u001b[0m\u001b[1mLayer (type)                   \u001b[0m\u001b[1m \u001b[0m┃\u001b[1m \u001b[0m\u001b[1mOutput Shape          \u001b[0m\u001b[1m \u001b[0m┃\u001b[1m \u001b[0m\u001b[1m      Param #\u001b[0m\u001b[1m \u001b[0m┃\n",
       "┡━━━━━━━━━━━━━━━━━━━━━━━━━━━━━━━━━╇━━━━━━━━━━━━━━━━━━━━━━━━╇━━━━━━━━━━━━━━━┩\n",
       "│ dense_5 (\u001b[38;5;33mDense\u001b[0m)                 │ (\u001b[38;5;45mNone\u001b[0m, \u001b[38;5;34m512\u001b[0m)            │       \u001b[38;5;34m135,168\u001b[0m │\n",
       "├─────────────────────────────────┼────────────────────────┼───────────────┤\n",
       "│ dense_6 (\u001b[38;5;33mDense\u001b[0m)                 │ (\u001b[38;5;45mNone\u001b[0m, \u001b[38;5;34m256\u001b[0m)            │       \u001b[38;5;34m131,328\u001b[0m │\n",
       "├─────────────────────────────────┼────────────────────────┼───────────────┤\n",
       "│ dense_7 (\u001b[38;5;33mDense\u001b[0m)                 │ (\u001b[38;5;45mNone\u001b[0m, \u001b[38;5;34m256\u001b[0m)            │        \u001b[38;5;34m65,792\u001b[0m │\n",
       "├─────────────────────────────────┼────────────────────────┼───────────────┤\n",
       "│ dense_8 (\u001b[38;5;33mDense\u001b[0m)                 │ (\u001b[38;5;45mNone\u001b[0m, \u001b[38;5;34m64\u001b[0m)             │        \u001b[38;5;34m16,448\u001b[0m │\n",
       "├─────────────────────────────────┼────────────────────────┼───────────────┤\n",
       "│ dense_9 (\u001b[38;5;33mDense\u001b[0m)                 │ (\u001b[38;5;45mNone\u001b[0m, \u001b[38;5;34m2\u001b[0m)              │           \u001b[38;5;34m130\u001b[0m │\n",
       "└─────────────────────────────────┴────────────────────────┴───────────────┘\n"
      ]
     },
     "metadata": {},
     "output_type": "display_data"
    },
    {
     "data": {
      "text/html": [
       "<pre style=\"white-space:pre;overflow-x:auto;line-height:normal;font-family:Menlo,'DejaVu Sans Mono',consolas,'Courier New',monospace\"><span style=\"font-weight: bold\"> Total params: </span><span style=\"color: #00af00; text-decoration-color: #00af00\">348,866</span> (1.33 MB)\n",
       "</pre>\n"
      ],
      "text/plain": [
       "\u001b[1m Total params: \u001b[0m\u001b[38;5;34m348,866\u001b[0m (1.33 MB)\n"
      ]
     },
     "metadata": {},
     "output_type": "display_data"
    },
    {
     "data": {
      "text/html": [
       "<pre style=\"white-space:pre;overflow-x:auto;line-height:normal;font-family:Menlo,'DejaVu Sans Mono',consolas,'Courier New',monospace\"><span style=\"font-weight: bold\"> Trainable params: </span><span style=\"color: #00af00; text-decoration-color: #00af00\">348,866</span> (1.33 MB)\n",
       "</pre>\n"
      ],
      "text/plain": [
       "\u001b[1m Trainable params: \u001b[0m\u001b[38;5;34m348,866\u001b[0m (1.33 MB)\n"
      ]
     },
     "metadata": {},
     "output_type": "display_data"
    },
    {
     "data": {
      "text/html": [
       "<pre style=\"white-space:pre;overflow-x:auto;line-height:normal;font-family:Menlo,'DejaVu Sans Mono',consolas,'Courier New',monospace\"><span style=\"font-weight: bold\"> Non-trainable params: </span><span style=\"color: #00af00; text-decoration-color: #00af00\">0</span> (0.00 B)\n",
       "</pre>\n"
      ],
      "text/plain": [
       "\u001b[1m Non-trainable params: \u001b[0m\u001b[38;5;34m0\u001b[0m (0.00 B)\n"
      ]
     },
     "metadata": {},
     "output_type": "display_data"
    }
   ],
   "source": [
    "model.build()\n",
    "model.summary()"
   ]
  },
  {
   "cell_type": "code",
   "execution_count": 39,
   "id": "1391506d-4c96-4050-9c4c-089e03737d63",
   "metadata": {},
   "outputs": [],
   "source": [
    "adam = Adam()\n",
    "model.compile(loss='categorical_crossentropy', metrics=['accuracy'], optimizer=adam)"
   ]
  },
  {
   "cell_type": "code",
   "execution_count": 40,
   "id": "3d22ee64-1ae1-463e-95d6-578075612056",
   "metadata": {},
   "outputs": [
    {
     "name": "stdout",
     "output_type": "stream",
     "text": [
      "Epoch 1/100\n",
      "\u001b[1m265/265\u001b[0m \u001b[32m━━━━━━━━━━━━━━━━━━━━\u001b[0m\u001b[37m\u001b[0m \u001b[1m1s\u001b[0m 1ms/step - accuracy: 0.5760 - loss: 0.6564 - val_accuracy: 0.8530 - val_loss: 0.3355\n",
      "Epoch 2/100\n",
      "\u001b[1m265/265\u001b[0m \u001b[32m━━━━━━━━━━━━━━━━━━━━\u001b[0m\u001b[37m\u001b[0m \u001b[1m0s\u001b[0m 1ms/step - accuracy: 0.8451 - loss: 0.3612 - val_accuracy: 0.8704 - val_loss: 0.2943\n",
      "Epoch 3/100\n",
      "\u001b[1m265/265\u001b[0m \u001b[32m━━━━━━━━━━━━━━━━━━━━\u001b[0m\u001b[37m\u001b[0m \u001b[1m0s\u001b[0m 1ms/step - accuracy: 0.8677 - loss: 0.3060 - val_accuracy: 0.8752 - val_loss: 0.2842\n",
      "Epoch 4/100\n",
      "\u001b[1m265/265\u001b[0m \u001b[32m━━━━━━━━━━━━━━━━━━━━\u001b[0m\u001b[37m\u001b[0m \u001b[1m0s\u001b[0m 1ms/step - accuracy: 0.8747 - loss: 0.2918 - val_accuracy: 0.8728 - val_loss: 0.2903\n",
      "Epoch 5/100\n",
      "\u001b[1m265/265\u001b[0m \u001b[32m━━━━━━━━━━━━━━━━━━━━\u001b[0m\u001b[37m\u001b[0m \u001b[1m0s\u001b[0m 1ms/step - accuracy: 0.8629 - loss: 0.3051 - val_accuracy: 0.8761 - val_loss: 0.2937\n",
      "Epoch 6/100\n",
      "\u001b[1m265/265\u001b[0m \u001b[32m━━━━━━━━━━━━━━━━━━━━\u001b[0m\u001b[37m\u001b[0m \u001b[1m0s\u001b[0m 1ms/step - accuracy: 0.8607 - loss: 0.3181 - val_accuracy: 0.8794 - val_loss: 0.2840\n",
      "Epoch 7/100\n",
      "\u001b[1m265/265\u001b[0m \u001b[32m━━━━━━━━━━━━━━━━━━━━\u001b[0m\u001b[37m\u001b[0m \u001b[1m0s\u001b[0m 1ms/step - accuracy: 0.8718 - loss: 0.2946 - val_accuracy: 0.8813 - val_loss: 0.2756\n",
      "Epoch 8/100\n",
      "\u001b[1m265/265\u001b[0m \u001b[32m━━━━━━━━━━━━━━━━━━━━\u001b[0m\u001b[37m\u001b[0m \u001b[1m0s\u001b[0m 1ms/step - accuracy: 0.8707 - loss: 0.2838 - val_accuracy: 0.8747 - val_loss: 0.2915\n",
      "Epoch 9/100\n",
      "\u001b[1m265/265\u001b[0m \u001b[32m━━━━━━━━━━━━━━━━━━━━\u001b[0m\u001b[37m\u001b[0m \u001b[1m0s\u001b[0m 1ms/step - accuracy: 0.8688 - loss: 0.2886 - val_accuracy: 0.8785 - val_loss: 0.2808\n",
      "Epoch 10/100\n",
      "\u001b[1m265/265\u001b[0m \u001b[32m━━━━━━━━━━━━━━━━━━━━\u001b[0m\u001b[37m\u001b[0m \u001b[1m0s\u001b[0m 1ms/step - accuracy: 0.8783 - loss: 0.2776 - val_accuracy: 0.8227 - val_loss: 0.3265\n",
      "Epoch 11/100\n",
      "\u001b[1m265/265\u001b[0m \u001b[32m━━━━━━━━━━━━━━━━━━━━\u001b[0m\u001b[37m\u001b[0m \u001b[1m0s\u001b[0m 1ms/step - accuracy: 0.8699 - loss: 0.2865 - val_accuracy: 0.8104 - val_loss: 0.3371\n",
      "Epoch 12/100\n",
      "\u001b[1m265/265\u001b[0m \u001b[32m━━━━━━━━━━━━━━━━━━━━\u001b[0m\u001b[37m\u001b[0m \u001b[1m0s\u001b[0m 1ms/step - accuracy: 0.8745 - loss: 0.2737 - val_accuracy: 0.8742 - val_loss: 0.2736\n",
      "Epoch 13/100\n",
      "\u001b[1m265/265\u001b[0m \u001b[32m━━━━━━━━━━━━━━━━━━━━\u001b[0m\u001b[37m\u001b[0m \u001b[1m0s\u001b[0m 1ms/step - accuracy: 0.8772 - loss: 0.2785 - val_accuracy: 0.8747 - val_loss: 0.2685\n",
      "Epoch 14/100\n",
      "\u001b[1m265/265\u001b[0m \u001b[32m━━━━━━━━━━━━━━━━━━━━\u001b[0m\u001b[37m\u001b[0m \u001b[1m0s\u001b[0m 1ms/step - accuracy: 0.8760 - loss: 0.2715 - val_accuracy: 0.8799 - val_loss: 0.2652\n",
      "Epoch 15/100\n",
      "\u001b[1m265/265\u001b[0m \u001b[32m━━━━━━━━━━━━━━━━━━━━\u001b[0m\u001b[37m\u001b[0m \u001b[1m0s\u001b[0m 1ms/step - accuracy: 0.8695 - loss: 0.2720 - val_accuracy: 0.8766 - val_loss: 0.2759\n",
      "Epoch 16/100\n",
      "\u001b[1m265/265\u001b[0m \u001b[32m━━━━━━━━━━━━━━━━━━━━\u001b[0m\u001b[37m\u001b[0m \u001b[1m0s\u001b[0m 1ms/step - accuracy: 0.8711 - loss: 0.2769 - val_accuracy: 0.8771 - val_loss: 0.2997\n",
      "Epoch 17/100\n",
      "\u001b[1m265/265\u001b[0m \u001b[32m━━━━━━━━━━━━━━━━━━━━\u001b[0m\u001b[37m\u001b[0m \u001b[1m0s\u001b[0m 1ms/step - accuracy: 0.8682 - loss: 0.2744 - val_accuracy: 0.8757 - val_loss: 0.2888\n",
      "Epoch 18/100\n",
      "\u001b[1m265/265\u001b[0m \u001b[32m━━━━━━━━━━━━━━━━━━━━\u001b[0m\u001b[37m\u001b[0m \u001b[1m0s\u001b[0m 1ms/step - accuracy: 0.8718 - loss: 0.2694 - val_accuracy: 0.8827 - val_loss: 0.2668\n",
      "Epoch 19/100\n",
      "\u001b[1m265/265\u001b[0m \u001b[32m━━━━━━━━━━━━━━━━━━━━\u001b[0m\u001b[37m\u001b[0m \u001b[1m0s\u001b[0m 1ms/step - accuracy: 0.8758 - loss: 0.2701 - val_accuracy: 0.8558 - val_loss: 0.2760\n",
      "Epoch 20/100\n",
      "\u001b[1m265/265\u001b[0m \u001b[32m━━━━━━━━━━━━━━━━━━━━\u001b[0m\u001b[37m\u001b[0m \u001b[1m0s\u001b[0m 1ms/step - accuracy: 0.8724 - loss: 0.2715 - val_accuracy: 0.8827 - val_loss: 0.2614\n",
      "Epoch 21/100\n",
      "\u001b[1m265/265\u001b[0m \u001b[32m━━━━━━━━━━━━━━━━━━━━\u001b[0m\u001b[37m\u001b[0m \u001b[1m0s\u001b[0m 1ms/step - accuracy: 0.8804 - loss: 0.2605 - val_accuracy: 0.8889 - val_loss: 0.2661\n",
      "Epoch 22/100\n",
      "\u001b[1m265/265\u001b[0m \u001b[32m━━━━━━━━━━━━━━━━━━━━\u001b[0m\u001b[37m\u001b[0m \u001b[1m0s\u001b[0m 1ms/step - accuracy: 0.8815 - loss: 0.2601 - val_accuracy: 0.8775 - val_loss: 0.2650\n",
      "Epoch 23/100\n",
      "\u001b[1m265/265\u001b[0m \u001b[32m━━━━━━━━━━━━━━━━━━━━\u001b[0m\u001b[37m\u001b[0m \u001b[1m0s\u001b[0m 1ms/step - accuracy: 0.8765 - loss: 0.2664 - val_accuracy: 0.8856 - val_loss: 0.2582\n",
      "Epoch 24/100\n",
      "\u001b[1m265/265\u001b[0m \u001b[32m━━━━━━━━━━━━━━━━━━━━\u001b[0m\u001b[37m\u001b[0m \u001b[1m0s\u001b[0m 1ms/step - accuracy: 0.8783 - loss: 0.2493 - val_accuracy: 0.8889 - val_loss: 0.2687\n",
      "Epoch 25/100\n",
      "\u001b[1m265/265\u001b[0m \u001b[32m━━━━━━━━━━━━━━━━━━━━\u001b[0m\u001b[37m\u001b[0m \u001b[1m0s\u001b[0m 1ms/step - accuracy: 0.8756 - loss: 0.2618 - val_accuracy: 0.8823 - val_loss: 0.2590\n",
      "Epoch 26/100\n",
      "\u001b[1m265/265\u001b[0m \u001b[32m━━━━━━━━━━━━━━━━━━━━\u001b[0m\u001b[37m\u001b[0m \u001b[1m0s\u001b[0m 1ms/step - accuracy: 0.8799 - loss: 0.2554 - val_accuracy: 0.8846 - val_loss: 0.2510\n",
      "Epoch 27/100\n",
      "\u001b[1m265/265\u001b[0m \u001b[32m━━━━━━━━━━━━━━━━━━━━\u001b[0m\u001b[37m\u001b[0m \u001b[1m0s\u001b[0m 1ms/step - accuracy: 0.8863 - loss: 0.2468 - val_accuracy: 0.8137 - val_loss: 0.3300\n",
      "Epoch 28/100\n",
      "\u001b[1m265/265\u001b[0m \u001b[32m━━━━━━━━━━━━━━━━━━━━\u001b[0m\u001b[37m\u001b[0m \u001b[1m0s\u001b[0m 1ms/step - accuracy: 0.8773 - loss: 0.2572 - val_accuracy: 0.8648 - val_loss: 0.2711\n",
      "Epoch 29/100\n",
      "\u001b[1m265/265\u001b[0m \u001b[32m━━━━━━━━━━━━━━━━━━━━\u001b[0m\u001b[37m\u001b[0m \u001b[1m0s\u001b[0m 1ms/step - accuracy: 0.8859 - loss: 0.2512 - val_accuracy: 0.8955 - val_loss: 0.2428\n",
      "Epoch 30/100\n",
      "\u001b[1m265/265\u001b[0m \u001b[32m━━━━━━━━━━━━━━━━━━━━\u001b[0m\u001b[37m\u001b[0m \u001b[1m0s\u001b[0m 1ms/step - accuracy: 0.8869 - loss: 0.2433 - val_accuracy: 0.8884 - val_loss: 0.2553\n",
      "Epoch 31/100\n",
      "\u001b[1m265/265\u001b[0m \u001b[32m━━━━━━━━━━━━━━━━━━━━\u001b[0m\u001b[37m\u001b[0m \u001b[1m0s\u001b[0m 1ms/step - accuracy: 0.8938 - loss: 0.2418 - val_accuracy: 0.8870 - val_loss: 0.2657\n",
      "Epoch 32/100\n",
      "\u001b[1m265/265\u001b[0m \u001b[32m━━━━━━━━━━━━━━━━━━━━\u001b[0m\u001b[37m\u001b[0m \u001b[1m0s\u001b[0m 1ms/step - accuracy: 0.8895 - loss: 0.2436 - val_accuracy: 0.8917 - val_loss: 0.2486\n",
      "Epoch 33/100\n",
      "\u001b[1m265/265\u001b[0m \u001b[32m━━━━━━━━━━━━━━━━━━━━\u001b[0m\u001b[37m\u001b[0m \u001b[1m0s\u001b[0m 1ms/step - accuracy: 0.8924 - loss: 0.2401 - val_accuracy: 0.8889 - val_loss: 0.2524\n",
      "Epoch 34/100\n",
      "\u001b[1m265/265\u001b[0m \u001b[32m━━━━━━━━━━━━━━━━━━━━\u001b[0m\u001b[37m\u001b[0m \u001b[1m0s\u001b[0m 1ms/step - accuracy: 0.8902 - loss: 0.2504 - val_accuracy: 0.8879 - val_loss: 0.2505\n",
      "Epoch 35/100\n",
      "\u001b[1m265/265\u001b[0m \u001b[32m━━━━━━━━━━━━━━━━━━━━\u001b[0m\u001b[37m\u001b[0m \u001b[1m0s\u001b[0m 1ms/step - accuracy: 0.8879 - loss: 0.2415 - val_accuracy: 0.8931 - val_loss: 0.2415\n",
      "Epoch 36/100\n",
      "\u001b[1m265/265\u001b[0m \u001b[32m━━━━━━━━━━━━━━━━━━━━\u001b[0m\u001b[37m\u001b[0m \u001b[1m0s\u001b[0m 1ms/step - accuracy: 0.8941 - loss: 0.2329 - val_accuracy: 0.8898 - val_loss: 0.2449\n",
      "Epoch 37/100\n",
      "\u001b[1m265/265\u001b[0m \u001b[32m━━━━━━━━━━━━━━━━━━━━\u001b[0m\u001b[37m\u001b[0m \u001b[1m0s\u001b[0m 1ms/step - accuracy: 0.8866 - loss: 0.2466 - val_accuracy: 0.8903 - val_loss: 0.2431\n",
      "Epoch 38/100\n",
      "\u001b[1m265/265\u001b[0m \u001b[32m━━━━━━━━━━━━━━━━━━━━\u001b[0m\u001b[37m\u001b[0m \u001b[1m0s\u001b[0m 1ms/step - accuracy: 0.8964 - loss: 0.2347 - val_accuracy: 0.8861 - val_loss: 0.2434\n",
      "Epoch 39/100\n",
      "\u001b[1m265/265\u001b[0m \u001b[32m━━━━━━━━━━━━━━━━━━━━\u001b[0m\u001b[37m\u001b[0m \u001b[1m0s\u001b[0m 1ms/step - accuracy: 0.8856 - loss: 0.2501 - val_accuracy: 0.8898 - val_loss: 0.2808\n",
      "Epoch 40/100\n",
      "\u001b[1m265/265\u001b[0m \u001b[32m━━━━━━━━━━━━━━━━━━━━\u001b[0m\u001b[37m\u001b[0m \u001b[1m0s\u001b[0m 1ms/step - accuracy: 0.8879 - loss: 0.2412 - val_accuracy: 0.8870 - val_loss: 0.2442\n",
      "Epoch 41/100\n",
      "\u001b[1m265/265\u001b[0m \u001b[32m━━━━━━━━━━━━━━━━━━━━\u001b[0m\u001b[37m\u001b[0m \u001b[1m0s\u001b[0m 1ms/step - accuracy: 0.8879 - loss: 0.2418 - val_accuracy: 0.8894 - val_loss: 0.2452\n",
      "Epoch 42/100\n",
      "\u001b[1m265/265\u001b[0m \u001b[32m━━━━━━━━━━━━━━━━━━━━\u001b[0m\u001b[37m\u001b[0m \u001b[1m0s\u001b[0m 1ms/step - accuracy: 0.8915 - loss: 0.2363 - val_accuracy: 0.8870 - val_loss: 0.2435\n",
      "Epoch 43/100\n",
      "\u001b[1m265/265\u001b[0m \u001b[32m━━━━━━━━━━━━━━━━━━━━\u001b[0m\u001b[37m\u001b[0m \u001b[1m0s\u001b[0m 1ms/step - accuracy: 0.8924 - loss: 0.2351 - val_accuracy: 0.8903 - val_loss: 0.2436\n",
      "Epoch 44/100\n",
      "\u001b[1m265/265\u001b[0m \u001b[32m━━━━━━━━━━━━━━━━━━━━\u001b[0m\u001b[37m\u001b[0m \u001b[1m0s\u001b[0m 1ms/step - accuracy: 0.8926 - loss: 0.2367 - val_accuracy: 0.8884 - val_loss: 0.2491\n",
      "Epoch 45/100\n",
      "\u001b[1m265/265\u001b[0m \u001b[32m━━━━━━━━━━━━━━━━━━━━\u001b[0m\u001b[37m\u001b[0m \u001b[1m0s\u001b[0m 1ms/step - accuracy: 0.8877 - loss: 0.2461 - val_accuracy: 0.8917 - val_loss: 0.2554\n",
      "Epoch 46/100\n",
      "\u001b[1m265/265\u001b[0m \u001b[32m━━━━━━━━━━━━━━━━━━━━\u001b[0m\u001b[37m\u001b[0m \u001b[1m0s\u001b[0m 1ms/step - accuracy: 0.8857 - loss: 0.2419 - val_accuracy: 0.8856 - val_loss: 0.2508\n",
      "Epoch 47/100\n",
      "\u001b[1m265/265\u001b[0m \u001b[32m━━━━━━━━━━━━━━━━━━━━\u001b[0m\u001b[37m\u001b[0m \u001b[1m0s\u001b[0m 1ms/step - accuracy: 0.8860 - loss: 0.2488 - val_accuracy: 0.8832 - val_loss: 0.2698\n",
      "Epoch 48/100\n",
      "\u001b[1m265/265\u001b[0m \u001b[32m━━━━━━━━━━━━━━━━━━━━\u001b[0m\u001b[37m\u001b[0m \u001b[1m0s\u001b[0m 1ms/step - accuracy: 0.8847 - loss: 0.2405 - val_accuracy: 0.8894 - val_loss: 0.2467\n",
      "Epoch 49/100\n",
      "\u001b[1m265/265\u001b[0m \u001b[32m━━━━━━━━━━━━━━━━━━━━\u001b[0m\u001b[37m\u001b[0m \u001b[1m0s\u001b[0m 1ms/step - accuracy: 0.8961 - loss: 0.2331 - val_accuracy: 0.8879 - val_loss: 0.2490\n",
      "Epoch 50/100\n",
      "\u001b[1m265/265\u001b[0m \u001b[32m━━━━━━━━━━━━━━━━━━━━\u001b[0m\u001b[37m\u001b[0m \u001b[1m0s\u001b[0m 1ms/step - accuracy: 0.8866 - loss: 0.2433 - val_accuracy: 0.8941 - val_loss: 0.2438\n",
      "Epoch 51/100\n",
      "\u001b[1m265/265\u001b[0m \u001b[32m━━━━━━━━━━━━━━━━━━━━\u001b[0m\u001b[37m\u001b[0m \u001b[1m0s\u001b[0m 1ms/step - accuracy: 0.8914 - loss: 0.2352 - val_accuracy: 0.8936 - val_loss: 0.2486\n",
      "Epoch 52/100\n",
      "\u001b[1m265/265\u001b[0m \u001b[32m━━━━━━━━━━━━━━━━━━━━\u001b[0m\u001b[37m\u001b[0m \u001b[1m0s\u001b[0m 1ms/step - accuracy: 0.8869 - loss: 0.2378 - val_accuracy: 0.8922 - val_loss: 0.2437\n",
      "Epoch 53/100\n",
      "\u001b[1m265/265\u001b[0m \u001b[32m━━━━━━━━━━━━━━━━━━━━\u001b[0m\u001b[37m\u001b[0m \u001b[1m0s\u001b[0m 1ms/step - accuracy: 0.8897 - loss: 0.2376 - val_accuracy: 0.8913 - val_loss: 0.2470\n",
      "Epoch 54/100\n",
      "\u001b[1m265/265\u001b[0m \u001b[32m━━━━━━━━━━━━━━━━━━━━\u001b[0m\u001b[37m\u001b[0m \u001b[1m0s\u001b[0m 1ms/step - accuracy: 0.8936 - loss: 0.2303 - val_accuracy: 0.8950 - val_loss: 0.2458\n",
      "Epoch 55/100\n",
      "\u001b[1m265/265\u001b[0m \u001b[32m━━━━━━━━━━━━━━━━━━━━\u001b[0m\u001b[37m\u001b[0m \u001b[1m0s\u001b[0m 1ms/step - accuracy: 0.8924 - loss: 0.2367 - val_accuracy: 0.8927 - val_loss: 0.2622\n",
      "Epoch 56/100\n",
      "\u001b[1m265/265\u001b[0m \u001b[32m━━━━━━━━━━━━━━━━━━━━\u001b[0m\u001b[37m\u001b[0m \u001b[1m0s\u001b[0m 1ms/step - accuracy: 0.8874 - loss: 0.2449 - val_accuracy: 0.8903 - val_loss: 0.2439\n",
      "Epoch 57/100\n",
      "\u001b[1m265/265\u001b[0m \u001b[32m━━━━━━━━━━━━━━━━━━━━\u001b[0m\u001b[37m\u001b[0m \u001b[1m0s\u001b[0m 1ms/step - accuracy: 0.8919 - loss: 0.2358 - val_accuracy: 0.8889 - val_loss: 0.2482\n",
      "Epoch 58/100\n",
      "\u001b[1m265/265\u001b[0m \u001b[32m━━━━━━━━━━━━━━━━━━━━\u001b[0m\u001b[37m\u001b[0m \u001b[1m0s\u001b[0m 1ms/step - accuracy: 0.8937 - loss: 0.2324 - val_accuracy: 0.8879 - val_loss: 0.2476\n",
      "Epoch 59/100\n",
      "\u001b[1m265/265\u001b[0m \u001b[32m━━━━━━━━━━━━━━━━━━━━\u001b[0m\u001b[37m\u001b[0m \u001b[1m0s\u001b[0m 1ms/step - accuracy: 0.8912 - loss: 0.2318 - val_accuracy: 0.8889 - val_loss: 0.2456\n",
      "Epoch 60/100\n",
      "\u001b[1m265/265\u001b[0m \u001b[32m━━━━━━━━━━━━━━━━━━━━\u001b[0m\u001b[37m\u001b[0m \u001b[1m0s\u001b[0m 1ms/step - accuracy: 0.8920 - loss: 0.2285 - val_accuracy: 0.8903 - val_loss: 0.2470\n",
      "Epoch 61/100\n",
      "\u001b[1m265/265\u001b[0m \u001b[32m━━━━━━━━━━━━━━━━━━━━\u001b[0m\u001b[37m\u001b[0m \u001b[1m0s\u001b[0m 1ms/step - accuracy: 0.8963 - loss: 0.2297 - val_accuracy: 0.8927 - val_loss: 0.2476\n",
      "Epoch 62/100\n",
      "\u001b[1m265/265\u001b[0m \u001b[32m━━━━━━━━━━━━━━━━━━━━\u001b[0m\u001b[37m\u001b[0m \u001b[1m0s\u001b[0m 1ms/step - accuracy: 0.8897 - loss: 0.2360 - val_accuracy: 0.8917 - val_loss: 0.2444\n",
      "Epoch 63/100\n",
      "\u001b[1m265/265\u001b[0m \u001b[32m━━━━━━━━━━━━━━━━━━━━\u001b[0m\u001b[37m\u001b[0m \u001b[1m0s\u001b[0m 1ms/step - accuracy: 0.8887 - loss: 0.2419 - val_accuracy: 0.8913 - val_loss: 0.2513\n",
      "Epoch 64/100\n",
      "\u001b[1m265/265\u001b[0m \u001b[32m━━━━━━━━━━━━━━━━━━━━\u001b[0m\u001b[37m\u001b[0m \u001b[1m0s\u001b[0m 1ms/step - accuracy: 0.8916 - loss: 0.2260 - val_accuracy: 0.8927 - val_loss: 0.2567\n",
      "Epoch 65/100\n",
      "\u001b[1m265/265\u001b[0m \u001b[32m━━━━━━━━━━━━━━━━━━━━\u001b[0m\u001b[37m\u001b[0m \u001b[1m0s\u001b[0m 1ms/step - accuracy: 0.8965 - loss: 0.2343 - val_accuracy: 0.8913 - val_loss: 0.2527\n",
      "Epoch 66/100\n",
      "\u001b[1m265/265\u001b[0m \u001b[32m━━━━━━━━━━━━━━━━━━━━\u001b[0m\u001b[37m\u001b[0m \u001b[1m0s\u001b[0m 1ms/step - accuracy: 0.8970 - loss: 0.2289 - val_accuracy: 0.8913 - val_loss: 0.2474\n",
      "Epoch 67/100\n",
      "\u001b[1m265/265\u001b[0m \u001b[32m━━━━━━━━━━━━━━━━━━━━\u001b[0m\u001b[37m\u001b[0m \u001b[1m0s\u001b[0m 1ms/step - accuracy: 0.8930 - loss: 0.2282 - val_accuracy: 0.8861 - val_loss: 0.2659\n",
      "Epoch 68/100\n",
      "\u001b[1m265/265\u001b[0m \u001b[32m━━━━━━━━━━━━━━━━━━━━\u001b[0m\u001b[37m\u001b[0m \u001b[1m0s\u001b[0m 1ms/step - accuracy: 0.8889 - loss: 0.2348 - val_accuracy: 0.8936 - val_loss: 0.2470\n",
      "Epoch 69/100\n",
      "\u001b[1m265/265\u001b[0m \u001b[32m━━━━━━━━━━━━━━━━━━━━\u001b[0m\u001b[37m\u001b[0m \u001b[1m0s\u001b[0m 1ms/step - accuracy: 0.8976 - loss: 0.2256 - val_accuracy: 0.8917 - val_loss: 0.2451\n",
      "Epoch 70/100\n",
      "\u001b[1m265/265\u001b[0m \u001b[32m━━━━━━━━━━━━━━━━━━━━\u001b[0m\u001b[37m\u001b[0m \u001b[1m0s\u001b[0m 1ms/step - accuracy: 0.8951 - loss: 0.2284 - val_accuracy: 0.8809 - val_loss: 0.2599\n",
      "Epoch 71/100\n",
      "\u001b[1m265/265\u001b[0m \u001b[32m━━━━━━━━━━━━━━━━━━━━\u001b[0m\u001b[37m\u001b[0m \u001b[1m0s\u001b[0m 1ms/step - accuracy: 0.8940 - loss: 0.2350 - val_accuracy: 0.8903 - val_loss: 0.2533\n",
      "Epoch 72/100\n",
      "\u001b[1m265/265\u001b[0m \u001b[32m━━━━━━━━━━━━━━━━━━━━\u001b[0m\u001b[37m\u001b[0m \u001b[1m0s\u001b[0m 1ms/step - accuracy: 0.8945 - loss: 0.2378 - val_accuracy: 0.8913 - val_loss: 0.2456\n",
      "Epoch 73/100\n",
      "\u001b[1m265/265\u001b[0m \u001b[32m━━━━━━━━━━━━━━━━━━━━\u001b[0m\u001b[37m\u001b[0m \u001b[1m0s\u001b[0m 1ms/step - accuracy: 0.8956 - loss: 0.2266 - val_accuracy: 0.8936 - val_loss: 0.2422\n",
      "Epoch 74/100\n",
      "\u001b[1m265/265\u001b[0m \u001b[32m━━━━━━━━━━━━━━━━━━━━\u001b[0m\u001b[37m\u001b[0m \u001b[1m0s\u001b[0m 1ms/step - accuracy: 0.9018 - loss: 0.2216 - val_accuracy: 0.8894 - val_loss: 0.2564\n",
      "Epoch 75/100\n",
      "\u001b[1m265/265\u001b[0m \u001b[32m━━━━━━━━━━━━━━━━━━━━\u001b[0m\u001b[37m\u001b[0m \u001b[1m0s\u001b[0m 1ms/step - accuracy: 0.8955 - loss: 0.2348 - val_accuracy: 0.8908 - val_loss: 0.2710\n",
      "Epoch 76/100\n",
      "\u001b[1m265/265\u001b[0m \u001b[32m━━━━━━━━━━━━━━━━━━━━\u001b[0m\u001b[37m\u001b[0m \u001b[1m0s\u001b[0m 1ms/step - accuracy: 0.9009 - loss: 0.2234 - val_accuracy: 0.8908 - val_loss: 0.2565\n",
      "Epoch 77/100\n",
      "\u001b[1m265/265\u001b[0m \u001b[32m━━━━━━━━━━━━━━━━━━━━\u001b[0m\u001b[37m\u001b[0m \u001b[1m0s\u001b[0m 1ms/step - accuracy: 0.8990 - loss: 0.2229 - val_accuracy: 0.8889 - val_loss: 0.2475\n",
      "Epoch 78/100\n",
      "\u001b[1m265/265\u001b[0m \u001b[32m━━━━━━━━━━━━━━━━━━━━\u001b[0m\u001b[37m\u001b[0m \u001b[1m0s\u001b[0m 1ms/step - accuracy: 0.8974 - loss: 0.2232 - val_accuracy: 0.8936 - val_loss: 0.2486\n",
      "Epoch 79/100\n",
      "\u001b[1m265/265\u001b[0m \u001b[32m━━━━━━━━━━━━━━━━━━━━\u001b[0m\u001b[37m\u001b[0m \u001b[1m0s\u001b[0m 1ms/step - accuracy: 0.8957 - loss: 0.2260 - val_accuracy: 0.8922 - val_loss: 0.2435\n",
      "Epoch 80/100\n",
      "\u001b[1m265/265\u001b[0m \u001b[32m━━━━━━━━━━━━━━━━━━━━\u001b[0m\u001b[37m\u001b[0m \u001b[1m0s\u001b[0m 1ms/step - accuracy: 0.9016 - loss: 0.2262 - val_accuracy: 0.8931 - val_loss: 0.2469\n",
      "Epoch 81/100\n",
      "\u001b[1m265/265\u001b[0m \u001b[32m━━━━━━━━━━━━━━━━━━━━\u001b[0m\u001b[37m\u001b[0m \u001b[1m0s\u001b[0m 1ms/step - accuracy: 0.8947 - loss: 0.2293 - val_accuracy: 0.8936 - val_loss: 0.2454\n",
      "Epoch 82/100\n",
      "\u001b[1m265/265\u001b[0m \u001b[32m━━━━━━━━━━━━━━━━━━━━\u001b[0m\u001b[37m\u001b[0m \u001b[1m0s\u001b[0m 1ms/step - accuracy: 0.8977 - loss: 0.2223 - val_accuracy: 0.8922 - val_loss: 0.2485\n",
      "Epoch 83/100\n",
      "\u001b[1m265/265\u001b[0m \u001b[32m━━━━━━━━━━━━━━━━━━━━\u001b[0m\u001b[37m\u001b[0m \u001b[1m0s\u001b[0m 1ms/step - accuracy: 0.8952 - loss: 0.2266 - val_accuracy: 0.8927 - val_loss: 0.2474\n",
      "Epoch 84/100\n",
      "\u001b[1m265/265\u001b[0m \u001b[32m━━━━━━━━━━━━━━━━━━━━\u001b[0m\u001b[37m\u001b[0m \u001b[1m0s\u001b[0m 1ms/step - accuracy: 0.8946 - loss: 0.2258 - val_accuracy: 0.8936 - val_loss: 0.2481\n",
      "Epoch 85/100\n",
      "\u001b[1m265/265\u001b[0m \u001b[32m━━━━━━━━━━━━━━━━━━━━\u001b[0m\u001b[37m\u001b[0m \u001b[1m0s\u001b[0m 1ms/step - accuracy: 0.8979 - loss: 0.2226 - val_accuracy: 0.8922 - val_loss: 0.2448\n",
      "Epoch 86/100\n",
      "\u001b[1m265/265\u001b[0m \u001b[32m━━━━━━━━━━━━━━━━━━━━\u001b[0m\u001b[37m\u001b[0m \u001b[1m0s\u001b[0m 1ms/step - accuracy: 0.8986 - loss: 0.2255 - val_accuracy: 0.8865 - val_loss: 0.2777\n",
      "Epoch 87/100\n",
      "\u001b[1m265/265\u001b[0m \u001b[32m━━━━━━━━━━━━━━━━━━━━\u001b[0m\u001b[37m\u001b[0m \u001b[1m0s\u001b[0m 1ms/step - accuracy: 0.8933 - loss: 0.2360 - val_accuracy: 0.8917 - val_loss: 0.2565\n",
      "Epoch 88/100\n",
      "\u001b[1m265/265\u001b[0m \u001b[32m━━━━━━━━━━━━━━━━━━━━\u001b[0m\u001b[37m\u001b[0m \u001b[1m0s\u001b[0m 1ms/step - accuracy: 0.8966 - loss: 0.2232 - val_accuracy: 0.8908 - val_loss: 0.2494\n",
      "Epoch 89/100\n",
      "\u001b[1m265/265\u001b[0m \u001b[32m━━━━━━━━━━━━━━━━━━━━\u001b[0m\u001b[37m\u001b[0m \u001b[1m0s\u001b[0m 1ms/step - accuracy: 0.8946 - loss: 0.2279 - val_accuracy: 0.8931 - val_loss: 0.2462\n",
      "Epoch 90/100\n",
      "\u001b[1m265/265\u001b[0m \u001b[32m━━━━━━━━━━━━━━━━━━━━\u001b[0m\u001b[37m\u001b[0m \u001b[1m0s\u001b[0m 1ms/step - accuracy: 0.9022 - loss: 0.2183 - val_accuracy: 0.8917 - val_loss: 0.2491\n",
      "Epoch 91/100\n",
      "\u001b[1m265/265\u001b[0m \u001b[32m━━━━━━━━━━━━━━━━━━━━\u001b[0m\u001b[37m\u001b[0m \u001b[1m0s\u001b[0m 1ms/step - accuracy: 0.8970 - loss: 0.2148 - val_accuracy: 0.8922 - val_loss: 0.2503\n",
      "Epoch 92/100\n",
      "\u001b[1m265/265\u001b[0m \u001b[32m━━━━━━━━━━━━━━━━━━━━\u001b[0m\u001b[37m\u001b[0m \u001b[1m0s\u001b[0m 1ms/step - accuracy: 0.8994 - loss: 0.2238 - val_accuracy: 0.8922 - val_loss: 0.2491\n",
      "Epoch 93/100\n",
      "\u001b[1m265/265\u001b[0m \u001b[32m━━━━━━━━━━━━━━━━━━━━\u001b[0m\u001b[37m\u001b[0m \u001b[1m0s\u001b[0m 1ms/step - accuracy: 0.9034 - loss: 0.2168 - val_accuracy: 0.8903 - val_loss: 0.2498\n",
      "Epoch 94/100\n",
      "\u001b[1m265/265\u001b[0m \u001b[32m━━━━━━━━━━━━━━━━━━━━\u001b[0m\u001b[37m\u001b[0m \u001b[1m0s\u001b[0m 1ms/step - accuracy: 0.8970 - loss: 0.2237 - val_accuracy: 0.8955 - val_loss: 0.2460\n",
      "Epoch 95/100\n",
      "\u001b[1m265/265\u001b[0m \u001b[32m━━━━━━━━━━━━━━━━━━━━\u001b[0m\u001b[37m\u001b[0m \u001b[1m0s\u001b[0m 1ms/step - accuracy: 0.9011 - loss: 0.2151 - val_accuracy: 0.8908 - val_loss: 0.2524\n",
      "Epoch 96/100\n",
      "\u001b[1m265/265\u001b[0m \u001b[32m━━━━━━━━━━━━━━━━━━━━\u001b[0m\u001b[37m\u001b[0m \u001b[1m0s\u001b[0m 1ms/step - accuracy: 0.8976 - loss: 0.2262 - val_accuracy: 0.8842 - val_loss: 0.2637\n",
      "Epoch 97/100\n",
      "\u001b[1m265/265\u001b[0m \u001b[32m━━━━━━━━━━━━━━━━━━━━\u001b[0m\u001b[37m\u001b[0m \u001b[1m0s\u001b[0m 1ms/step - accuracy: 0.8948 - loss: 0.2214 - val_accuracy: 0.8927 - val_loss: 0.2485\n",
      "Epoch 98/100\n",
      "\u001b[1m265/265\u001b[0m \u001b[32m━━━━━━━━━━━━━━━━━━━━\u001b[0m\u001b[37m\u001b[0m \u001b[1m0s\u001b[0m 1ms/step - accuracy: 0.9051 - loss: 0.2114 - val_accuracy: 0.8941 - val_loss: 0.2481\n",
      "Epoch 99/100\n",
      "\u001b[1m265/265\u001b[0m \u001b[32m━━━━━━━━━━━━━━━━━━━━\u001b[0m\u001b[37m\u001b[0m \u001b[1m0s\u001b[0m 1ms/step - accuracy: 0.8962 - loss: 0.2223 - val_accuracy: 0.8851 - val_loss: 0.2569\n",
      "Epoch 100/100\n",
      "\u001b[1m265/265\u001b[0m \u001b[32m━━━━━━━━━━━━━━━━━━━━\u001b[0m\u001b[37m\u001b[0m \u001b[1m0s\u001b[0m 1ms/step - accuracy: 0.9003 - loss: 0.2197 - val_accuracy: 0.8809 - val_loss: 0.2614\n"
     ]
    }
   ],
   "source": [
    "historico = model.fit(X_train, y_train, epochs=100, validation_split=0.2)"
   ]
  },
  {
   "cell_type": "code",
   "execution_count": 41,
   "id": "3b329639-d6b0-4013-910e-4abc9d6232d7",
   "metadata": {},
   "outputs": [
    {
     "data": {
      "text/plain": [
       "Text(0, 0.5, 'acuracia')"
      ]
     },
     "execution_count": 41,
     "metadata": {},
     "output_type": "execute_result"
    },
    {
     "data": {
      "image/png": "[encoded data removed]",
      "text/plain": [
       "<Figure size 800x550 with 1 Axes>"
      ]
     },
     "metadata": {},
     "output_type": "display_data"
    }
   ],
   "source": [
    "import matplotlib.pyplot as plt\n",
    "\n",
    "plt.plot(historico.history['accuracy'])\n",
    "plt.plot(historico.history['val_accuracy'])\n",
    "plt.legend(['treino', 'validacao'])\n",
    "plt.xlabel('epocas')\n",
    "plt.ylabel('acuracia')"
   ]
  },
  {
   "cell_type": "code",
   "execution_count": 42,
   "id": "e7eda53e-f458-481d-adb0-2cc52a870b6f",
   "metadata": {},
   "outputs": [
    {
     "name": "stdout",
     "output_type": "stream",
     "text": [
      "\u001b[1m163/163\u001b[0m \u001b[32m━━━━━━━━━━━━━━━━━━━━\u001b[0m\u001b[37m\u001b[0m \u001b[1m0s\u001b[0m 449us/step\n"
     ]
    }
   ],
   "source": [
    "eva = model.predict(X_test)"
   ]
  },
  {
   "cell_type": "code",
   "execution_count": 43,
   "id": "e4130e22-0b9d-41ab-a60f-c8406a2864d3",
   "metadata": {},
   "outputs": [
    {
     "data": {
      "text/plain": [
       "array([[0.12937781, 0.86724603],\n",
       "       [0.9730548 , 0.01689883],\n",
       "       [0.987724  , 0.00652555],\n",
       "       ...,\n",
       "       [0.07788361, 0.91027164],\n",
       "       [0.4596889 , 0.5495224 ],\n",
       "       [0.03860505, 0.93125045]], dtype=float32)"
      ]
     },
     "execution_count": 43,
     "metadata": {},
     "output_type": "execute_result"
    }
   ],
   "source": [
    "eva"
   ]
  },
  {
   "cell_type": "code",
   "execution_count": 44,
   "id": "f76754e7-1304-47b4-a215-bf331758fc2b",
   "metadata": {},
   "outputs": [],
   "source": [
    "for a in range(len(eva)):\n",
    "    m = 0\n",
    "    for b in range(len(eva[a])):\n",
    "        m = max(m,eva[a][b])\n",
    "    for b in range(len(eva[a])):\n",
    "        eva[a][b] = 0 if eva[a][b] != m else 1"
   ]
  },
  {
   "cell_type": "code",
   "execution_count": 45,
   "id": "92089778-489a-4981-bf91-4473674fa8d6",
   "metadata": {},
   "outputs": [],
   "source": [
    "eva = np.array(eva, dtype=bool)\n",
    "y_test = np.array(y_test, dtype=bool)"
   ]
  },
  {
   "cell_type": "code",
   "execution_count": 46,
   "id": "33566e3b-fb7c-41ba-9c1e-851b48bc2836",
   "metadata": {},
   "outputs": [],
   "source": [
    "eva2 = []\n",
    "for a in eva:\n",
    "    for b in range(len(a)):\n",
    "        if a[b]:\n",
    "            eva2.append(b)\n",
    "            break"
   ]
  },
  {
   "cell_type": "code",
   "execution_count": 47,
   "id": "287d765b-a79f-4abe-884d-8a342ba84067",
   "metadata": {},
   "outputs": [],
   "source": [
    "y2_te = []\n",
    "for a in y_test:\n",
    "    for b in range(len(a)):\n",
    "        if a[b]:\n",
    "            y2_te.append(b)\n",
    "            break"
   ]
  },
  {
   "cell_type": "code",
   "execution_count": 48,
   "id": "9394546b-a284-4153-96c1-f7a6694c2067",
   "metadata": {},
   "outputs": [
    {
     "data": {
      "image/png": "[encoded data removed]",
      "text/plain": [
       "<Figure size 800x550 with 2 Axes>"
      ]
     },
     "metadata": {},
     "output_type": "display_data"
    }
   ],
   "source": [
    "from sklearn.metrics import confusion_matrix, ConfusionMatrixDisplay\n",
    "\n",
    "cm = confusion_matrix(y2_te, eva2)\n",
    "\n",
    "disp = ConfusionMatrixDisplay(confusion_matrix=cm)\n",
    "\n",
    "disp.plot()\n",
    "\n",
    "plt.show()"
   ]
  },
  {
   "cell_type": "code",
   "execution_count": 49,
   "id": "27c476fa-2902-4d88-97a0-8ba9023d40e8",
   "metadata": {},
   "outputs": [
    {
     "data": {
      "text/plain": [
       "0.8675115207373272"
      ]
     },
     "execution_count": 49,
     "metadata": {},
     "output_type": "execute_result"
    }
   ],
   "source": [
    "recall_score(y2_te, eva2,average='micro')"
   ]
  },
  {
   "cell_type": "code",
   "execution_count": null,
   "id": "148794db-448a-423a-8d8c-1ea863459f50",
   "metadata": {},
   "outputs": [],
   "source": [
    "model.save(\"Previsao_tem_falha.keras\")"
   ]
  }
 ],
 "metadata": {
  "kernelspec": {
   "display_name": "Python 3 (ipykernel)",
   "language": "python",
   "name": "python3"
  },
  "language_info": {
   "codemirror_mode": {
    "name": "ipython",
    "version": 3
   },
   "file_extension": ".py",
   "mimetype": "text/x-python",
   "name": "python",
   "nbconvert_exporter": "python",
   "pygments_lexer": "ipython3",
   "version": "3.12.5"
  }
 },
 "nbformat": 4,
 "nbformat_minor": 5
}
